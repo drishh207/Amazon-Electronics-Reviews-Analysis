{
 "cells": [
  {
   "cell_type": "code",
   "execution_count": 1,
   "id": "8322db73",
   "metadata": {},
   "outputs": [],
   "source": [
    "import pandas as pd\n",
    "import numpy as np"
   ]
  },
  {
   "cell_type": "code",
   "execution_count": 2,
   "id": "90a224cd",
   "metadata": {},
   "outputs": [],
   "source": [
    "#This dataframe has all headphone reviews filtered from Electronics Dataset\n",
    "headphone_electronics = pd.read_pickle('headphone_df_final.pkl')"
   ]
  },
  {
   "cell_type": "code",
   "execution_count": 3,
   "id": "4ff74e06",
   "metadata": {},
   "outputs": [
    {
     "name": "stdout",
     "output_type": "stream",
     "text": [
      "Number of empty values in each column:\n",
      "overall                0\n",
      "vote              554402\n",
      "verified               0\n",
      "reviewTime             0\n",
      "reviewerID             0\n",
      "asin                   0\n",
      "style             239659\n",
      "reviewerName          79\n",
      "reviewText            97\n",
      "summary               94\n",
      "unixReviewTime         0\n",
      "image             632018\n",
      "dtype: int64\n"
     ]
    }
   ],
   "source": [
    "#Get Null values count for each column\n",
    "empty_values_count = headphone_electronics.isna().sum()\n",
    "\n",
    "# Print the number of empty values in each column\n",
    "print(\"Number of empty values in each column:\")\n",
    "print(empty_values_count)"
   ]
  },
  {
   "cell_type": "code",
   "execution_count": 4,
   "id": "6432daaa",
   "metadata": {},
   "outputs": [],
   "source": [
    "columns_to_drop = ['vote', 'verified', 'unixReviewTime', 'image', 'summary']\n",
    "headphone_electronics = headphone_electronics.drop(columns=columns_to_drop)"
   ]
  },
  {
   "cell_type": "code",
   "execution_count": 5,
   "id": "dd170df0",
   "metadata": {},
   "outputs": [
    {
     "data": {
      "text/html": [
       "<div>\n",
       "<style scoped>\n",
       "    .dataframe tbody tr th:only-of-type {\n",
       "        vertical-align: middle;\n",
       "    }\n",
       "\n",
       "    .dataframe tbody tr th {\n",
       "        vertical-align: top;\n",
       "    }\n",
       "\n",
       "    .dataframe thead th {\n",
       "        text-align: right;\n",
       "    }\n",
       "</style>\n",
       "<table border=\"1\" class=\"dataframe\">\n",
       "  <thead>\n",
       "    <tr style=\"text-align: right;\">\n",
       "      <th></th>\n",
       "      <th>overall</th>\n",
       "      <th>reviewTime</th>\n",
       "      <th>reviewerID</th>\n",
       "      <th>asin</th>\n",
       "      <th>style</th>\n",
       "      <th>reviewerName</th>\n",
       "      <th>reviewText</th>\n",
       "    </tr>\n",
       "  </thead>\n",
       "  <tbody>\n",
       "    <tr>\n",
       "      <th>2441</th>\n",
       "      <td>5.0</td>\n",
       "      <td>02 22, 2015</td>\n",
       "      <td>A38RQFVQ1AKJQQ</td>\n",
       "      <td>4126895493</td>\n",
       "      <td>{'Color:': ' Blue W/Mic'}</td>\n",
       "      <td>George Walker</td>\n",
       "      <td>Great headphones. It's just the cord is too sh...</td>\n",
       "    </tr>\n",
       "    <tr>\n",
       "      <th>2442</th>\n",
       "      <td>5.0</td>\n",
       "      <td>05 8, 2017</td>\n",
       "      <td>A299MRB9O6GWDE</td>\n",
       "      <td>4126895493</td>\n",
       "      <td>{'Color:': ' Blue Zebra W/Mic'}</td>\n",
       "      <td>Carolyn B</td>\n",
       "      <td>Really like these headphone.  Wanted something...</td>\n",
       "    </tr>\n",
       "    <tr>\n",
       "      <th>2443</th>\n",
       "      <td>1.0</td>\n",
       "      <td>11 5, 2016</td>\n",
       "      <td>A3ACFC6DQQLIQT</td>\n",
       "      <td>4126895493</td>\n",
       "      <td>{'Color:': ' Blue W/Mic'}</td>\n",
       "      <td>MK</td>\n",
       "      <td>Wire to headphone broke off in less than a mon...</td>\n",
       "    </tr>\n",
       "    <tr>\n",
       "      <th>2444</th>\n",
       "      <td>3.0</td>\n",
       "      <td>09 24, 2016</td>\n",
       "      <td>A36BC0YFDBNB5X</td>\n",
       "      <td>4126895493</td>\n",
       "      <td>{'Color:': ' Green'}</td>\n",
       "      <td>bigboy</td>\n",
       "      <td>Very good</td>\n",
       "    </tr>\n",
       "    <tr>\n",
       "      <th>2445</th>\n",
       "      <td>1.0</td>\n",
       "      <td>07 17, 2016</td>\n",
       "      <td>A212PQ0HQPNNWM</td>\n",
       "      <td>4126895493</td>\n",
       "      <td>{'Color:': ' Violet Purple'}</td>\n",
       "      <td>Kelly Hales</td>\n",
       "      <td>Currently returning this product because the s...</td>\n",
       "    </tr>\n",
       "  </tbody>\n",
       "</table>\n",
       "</div>"
      ],
      "text/plain": [
       "      overall   reviewTime      reviewerID        asin  \\\n",
       "2441      5.0  02 22, 2015  A38RQFVQ1AKJQQ  4126895493   \n",
       "2442      5.0   05 8, 2017  A299MRB9O6GWDE  4126895493   \n",
       "2443      1.0   11 5, 2016  A3ACFC6DQQLIQT  4126895493   \n",
       "2444      3.0  09 24, 2016  A36BC0YFDBNB5X  4126895493   \n",
       "2445      1.0  07 17, 2016  A212PQ0HQPNNWM  4126895493   \n",
       "\n",
       "                                style   reviewerName  \\\n",
       "2441        {'Color:': ' Blue W/Mic'}  George Walker   \n",
       "2442  {'Color:': ' Blue Zebra W/Mic'}      Carolyn B   \n",
       "2443        {'Color:': ' Blue W/Mic'}             MK   \n",
       "2444             {'Color:': ' Green'}         bigboy   \n",
       "2445     {'Color:': ' Violet Purple'}    Kelly Hales   \n",
       "\n",
       "                                             reviewText  \n",
       "2441  Great headphones. It's just the cord is too sh...  \n",
       "2442  Really like these headphone.  Wanted something...  \n",
       "2443  Wire to headphone broke off in less than a mon...  \n",
       "2444                                          Very good  \n",
       "2445  Currently returning this product because the s...  "
      ]
     },
     "execution_count": 5,
     "metadata": {},
     "output_type": "execute_result"
    }
   ],
   "source": [
    "headphone_electronics.head()"
   ]
  },
  {
   "cell_type": "code",
   "execution_count": 6,
   "id": "855ee19b",
   "metadata": {},
   "outputs": [
    {
     "name": "stdout",
     "output_type": "stream",
     "text": [
      "Number of empty values in each column:\n",
      "overall              0\n",
      "reviewTime           0\n",
      "reviewerID           0\n",
      "asin                 0\n",
      "style           239659\n",
      "reviewerName        79\n",
      "reviewText          97\n",
      "dtype: int64\n"
     ]
    }
   ],
   "source": [
    "#Get Null values count for each column\n",
    "empty_values_count = headphone_electronics.isna().sum()\n",
    "\n",
    "# Print the number of empty values in each column\n",
    "print(\"Number of empty values in each column:\")\n",
    "print(empty_values_count)"
   ]
  },
  {
   "cell_type": "markdown",
   "id": "7006a4fd",
   "metadata": {},
   "source": [
    "# Handling Missing values"
   ]
  },
  {
   "cell_type": "code",
   "execution_count": 7,
   "id": "00b2614f",
   "metadata": {},
   "outputs": [
    {
     "data": {
      "text/html": [
       "<div>\n",
       "<style scoped>\n",
       "    .dataframe tbody tr th:only-of-type {\n",
       "        vertical-align: middle;\n",
       "    }\n",
       "\n",
       "    .dataframe tbody tr th {\n",
       "        vertical-align: top;\n",
       "    }\n",
       "\n",
       "    .dataframe thead th {\n",
       "        text-align: right;\n",
       "    }\n",
       "</style>\n",
       "<table border=\"1\" class=\"dataframe\">\n",
       "  <thead>\n",
       "    <tr style=\"text-align: right;\">\n",
       "      <th></th>\n",
       "      <th>overall</th>\n",
       "      <th>reviewTime</th>\n",
       "      <th>reviewerID</th>\n",
       "      <th>asin</th>\n",
       "      <th>style</th>\n",
       "      <th>reviewerName</th>\n",
       "      <th>reviewText</th>\n",
       "    </tr>\n",
       "  </thead>\n",
       "  <tbody>\n",
       "    <tr>\n",
       "      <th>2441</th>\n",
       "      <td>5.0</td>\n",
       "      <td>02 22, 2015</td>\n",
       "      <td>A38RQFVQ1AKJQQ</td>\n",
       "      <td>4126895493</td>\n",
       "      <td>{'Color:': ' Blue W/Mic'}</td>\n",
       "      <td>George Walker</td>\n",
       "      <td>Great headphones. It's just the cord is too sh...</td>\n",
       "    </tr>\n",
       "    <tr>\n",
       "      <th>2442</th>\n",
       "      <td>5.0</td>\n",
       "      <td>05 8, 2017</td>\n",
       "      <td>A299MRB9O6GWDE</td>\n",
       "      <td>4126895493</td>\n",
       "      <td>{'Color:': ' Blue Zebra W/Mic'}</td>\n",
       "      <td>Carolyn B</td>\n",
       "      <td>Really like these headphone.  Wanted something...</td>\n",
       "    </tr>\n",
       "    <tr>\n",
       "      <th>2443</th>\n",
       "      <td>1.0</td>\n",
       "      <td>11 5, 2016</td>\n",
       "      <td>A3ACFC6DQQLIQT</td>\n",
       "      <td>4126895493</td>\n",
       "      <td>{'Color:': ' Blue W/Mic'}</td>\n",
       "      <td>MK</td>\n",
       "      <td>Wire to headphone broke off in less than a mon...</td>\n",
       "    </tr>\n",
       "    <tr>\n",
       "      <th>2444</th>\n",
       "      <td>3.0</td>\n",
       "      <td>09 24, 2016</td>\n",
       "      <td>A36BC0YFDBNB5X</td>\n",
       "      <td>4126895493</td>\n",
       "      <td>{'Color:': ' Green'}</td>\n",
       "      <td>bigboy</td>\n",
       "      <td>Very good</td>\n",
       "    </tr>\n",
       "    <tr>\n",
       "      <th>2445</th>\n",
       "      <td>1.0</td>\n",
       "      <td>07 17, 2016</td>\n",
       "      <td>A212PQ0HQPNNWM</td>\n",
       "      <td>4126895493</td>\n",
       "      <td>{'Color:': ' Violet Purple'}</td>\n",
       "      <td>Kelly Hales</td>\n",
       "      <td>Currently returning this product because the s...</td>\n",
       "    </tr>\n",
       "  </tbody>\n",
       "</table>\n",
       "</div>"
      ],
      "text/plain": [
       "      overall   reviewTime      reviewerID        asin  \\\n",
       "2441      5.0  02 22, 2015  A38RQFVQ1AKJQQ  4126895493   \n",
       "2442      5.0   05 8, 2017  A299MRB9O6GWDE  4126895493   \n",
       "2443      1.0   11 5, 2016  A3ACFC6DQQLIQT  4126895493   \n",
       "2444      3.0  09 24, 2016  A36BC0YFDBNB5X  4126895493   \n",
       "2445      1.0  07 17, 2016  A212PQ0HQPNNWM  4126895493   \n",
       "\n",
       "                                style   reviewerName  \\\n",
       "2441        {'Color:': ' Blue W/Mic'}  George Walker   \n",
       "2442  {'Color:': ' Blue Zebra W/Mic'}      Carolyn B   \n",
       "2443        {'Color:': ' Blue W/Mic'}             MK   \n",
       "2444             {'Color:': ' Green'}         bigboy   \n",
       "2445     {'Color:': ' Violet Purple'}    Kelly Hales   \n",
       "\n",
       "                                             reviewText  \n",
       "2441  Great headphones. It's just the cord is too sh...  \n",
       "2442  Really like these headphone.  Wanted something...  \n",
       "2443  Wire to headphone broke off in less than a mon...  \n",
       "2444                                          Very good  \n",
       "2445  Currently returning this product because the s...  "
      ]
     },
     "execution_count": 7,
     "metadata": {},
     "output_type": "execute_result"
    }
   ],
   "source": [
    "#Replace the null values in style by empty list {}, reviewName and reviewText by empty string \"\"\n",
    "headphone_electronics['style'] = headphone_electronics['style'].fillna({})\n",
    "\n",
    "headphone_electronics['reviewerName'] = headphone_electronics['reviewerName'].fillna(\"\")\n",
    "\n",
    "headphone_electronics['reviewText'] = headphone_electronics['reviewText'].fillna(\"\")\n",
    "\n",
    "headphone_electronics.head()"
   ]
  },
  {
   "cell_type": "code",
   "execution_count": 8,
   "id": "589a3f09",
   "metadata": {},
   "outputs": [
    {
     "name": "stdout",
     "output_type": "stream",
     "text": [
      "(643077, 7)\n"
     ]
    }
   ],
   "source": [
    "print(headphone_electronics.shape)"
   ]
  },
  {
   "cell_type": "markdown",
   "id": "d38d7518",
   "metadata": {},
   "source": [
    "# Handling Duplicate Rows"
   ]
  },
  {
   "cell_type": "code",
   "execution_count": 9,
   "id": "3be647cc",
   "metadata": {},
   "outputs": [
    {
     "name": "stdout",
     "output_type": "stream",
     "text": [
      "Number of duplicate rows in the dataframe: 17646\n"
     ]
    }
   ],
   "source": [
    "headphone_electronics_test = headphone_electronics\n",
    "headphone_electronics_test['style'] = headphone_electronics_test['style'].astype(str)\n",
    "num_duplicates = headphone_electronics_test.duplicated().sum()\n",
    "\n",
    "print(\"Number of duplicate rows in the dataframe:\", num_duplicates)"
   ]
  },
  {
   "cell_type": "code",
   "execution_count": 10,
   "id": "ae1e3c38",
   "metadata": {},
   "outputs": [
    {
     "name": "stdout",
     "output_type": "stream",
     "text": [
      "Indexes of duplicate rows that need to be dropped:\n",
      "Index([  25886,   65101,   74003,   74004,   74005,  138865,  270268,  306739,\n",
      "        331612,  335643,\n",
      "       ...\n",
      "       6173574, 6225955, 6225956, 6225957, 6225958, 6225959, 6225960, 6225961,\n",
      "       6225962, 6225963],\n",
      "      dtype='int64', length=17646)\n",
      "17646\n"
     ]
    }
   ],
   "source": [
    "duplicate_indexes = headphone_electronics_test[headphone_electronics_test.duplicated()].index\n",
    "\n",
    "print(\"Indexes of duplicate rows that need to be dropped:\")\n",
    "print(duplicate_indexes)\n",
    "print(len(duplicate_indexes))"
   ]
  },
  {
   "cell_type": "code",
   "execution_count": 11,
   "id": "79ac36f4",
   "metadata": {},
   "outputs": [],
   "source": [
    "headphone_electronics = headphone_electronics.drop(duplicate_indexes)"
   ]
  },
  {
   "cell_type": "code",
   "execution_count": 12,
   "id": "739cb5ef",
   "metadata": {},
   "outputs": [
    {
     "name": "stdout",
     "output_type": "stream",
     "text": [
      "(625431, 7)\n"
     ]
    }
   ],
   "source": [
    "print(headphone_electronics.shape)"
   ]
  },
  {
   "cell_type": "markdown",
   "id": "7f3769ef",
   "metadata": {},
   "source": [
    "# Total Number of Rows for HeadPhone Product"
   ]
  },
  {
   "cell_type": "code",
   "execution_count": 13,
   "id": "c960f61c",
   "metadata": {},
   "outputs": [
    {
     "name": "stdout",
     "output_type": "stream",
     "text": [
      "Total Number of Rows for HeadPhone are 625431\n"
     ]
    }
   ],
   "source": [
    "print(f\"Total Number of Rows for HeadPhone are {len(headphone_electronics)}\")"
   ]
  },
  {
   "cell_type": "markdown",
   "id": "8f1832b4",
   "metadata": {},
   "source": [
    "# Number of Reviews"
   ]
  },
  {
   "cell_type": "code",
   "execution_count": 14,
   "id": "c4c5d77d",
   "metadata": {},
   "outputs": [
    {
     "name": "stdout",
     "output_type": "stream",
     "text": [
      "Number of Reviews are 625335\n"
     ]
    }
   ],
   "source": [
    "filtered_df = headphone_electronics[headphone_electronics['reviewText'] != \"\"]\n",
    "\n",
    "# Count the total number of rows\n",
    "print(f\"Number of Reviews are {len(filtered_df)}\")"
   ]
  },
  {
   "cell_type": "markdown",
   "id": "f834801e",
   "metadata": {},
   "source": [
    "# Average Rating"
   ]
  },
  {
   "cell_type": "code",
   "execution_count": 15,
   "id": "f21e1baa",
   "metadata": {},
   "outputs": [
    {
     "name": "stdout",
     "output_type": "stream",
     "text": [
      "Average Rating is 4.11\n"
     ]
    }
   ],
   "source": [
    "average_rating = round(headphone_electronics['overall'].mean(), 2)\n",
    "print(f\"Average Rating is {average_rating}\")"
   ]
  },
  {
   "cell_type": "markdown",
   "id": "317a7e69",
   "metadata": {},
   "source": [
    "# Number of Unique Products"
   ]
  },
  {
   "cell_type": "code",
   "execution_count": 16,
   "id": "17b85a79",
   "metadata": {},
   "outputs": [
    {
     "name": "stdout",
     "output_type": "stream",
     "text": [
      "Number of Unique Products: 4497\n"
     ]
    }
   ],
   "source": [
    "import json\n",
    "style_df = headphone_electronics\n",
    "#print(style_df)\n",
    "\n",
    "# Assuming new_df is your DataFrame\n",
    "\n",
    "# Convert dictionary-like strings to JSON strings\n",
    "style_df['style_json'] = style_df['style'].apply(lambda x: json.dumps(eval(x)) if x and x != 'nan' else np.nan)\n",
    "\n",
    "# Drop rows with NaN values in the 'style_json' column\n",
    "style_df = style_df.dropna(subset=['style_json'])\n",
    "\n",
    "#print(style_df['style_json'])\n",
    "\n",
    "# Get unique JSON strings\n",
    "unique_json_strings = style_df['style_json'].unique()\n",
    "\n",
    "# Convert JSON strings back to dictionaries and extract unique items\n",
    "unique_items = set()\n",
    "for json_string in unique_json_strings:\n",
    "    if json_string is not None:\n",
    "        style_dict = json.loads(json_string)\n",
    "        unique_items.update(style_dict.values())\n",
    "\n",
    "print(f\"Number of Unique Products: {len(unique_items)}\")"
   ]
  },
  {
   "cell_type": "markdown",
   "id": "50f41895",
   "metadata": {},
   "source": [
    "# Number of Good Ratings"
   ]
  },
  {
   "cell_type": "code",
   "execution_count": 17,
   "id": "e880cf8e",
   "metadata": {},
   "outputs": [
    {
     "name": "stdout",
     "output_type": "stream",
     "text": [
      "Number of Good Ratings (>= 3) is 535699\n"
     ]
    }
   ],
   "source": [
    "count_good = (headphone_electronics['overall'] >= 3).sum()\n",
    "print(f\"Number of Good Ratings (>= 3) is {count_good}\")"
   ]
  },
  {
   "cell_type": "markdown",
   "id": "b4c4c927",
   "metadata": {},
   "source": [
    "# Number of Bad Ratings"
   ]
  },
  {
   "cell_type": "code",
   "execution_count": 18,
   "id": "f5f738e2",
   "metadata": {},
   "outputs": [
    {
     "name": "stdout",
     "output_type": "stream",
     "text": [
      "Number of Bad Ratings (< 3) is 89732\n"
     ]
    }
   ],
   "source": [
    "count_bad = (headphone_electronics['overall'] < 3).sum()\n",
    "print(f\"Number of Bad Ratings (< 3) is {count_bad}\")"
   ]
  },
  {
   "cell_type": "markdown",
   "id": "9a1640a2",
   "metadata": {},
   "source": [
    "# Number of Reviews corresponding to each Rating"
   ]
  },
  {
   "cell_type": "code",
   "execution_count": 19,
   "id": "29061283",
   "metadata": {},
   "outputs": [
    {
     "name": "stdout",
     "output_type": "stream",
     "text": [
      "Number of reviews per rating is as follows \n",
      " overall\n",
      "1.0     49079\n",
      "2.0     40653\n",
      "3.0     60768\n",
      "4.0    117875\n",
      "5.0    357056\n",
      "dtype: int64\n"
     ]
    }
   ],
   "source": [
    "filtered_df = []\n",
    "filtered_df = headphone_electronics[headphone_electronics['overall'] != \"\"]\n",
    "\n",
    "# Convert the 'overall' column to numeric type\n",
    "filtered_df['overall'] = pd.to_numeric(filtered_df['overall'])\n",
    "\n",
    "# Count the number of reviews corresponding to each value in the 'overall' column\n",
    "reviews_count = filtered_df.groupby('overall').size()\n",
    "\n",
    "print(f\"Number of reviews per rating is as follows \\n {reviews_count}\")"
   ]
  },
  {
   "cell_type": "markdown",
   "id": "0b0f99aa",
   "metadata": {},
   "source": [
    "# Q5. Preprocess the Text"
   ]
  },
  {
   "cell_type": "code",
   "execution_count": 16,
   "id": "9d7054c9",
   "metadata": {},
   "outputs": [
    {
     "name": "stderr",
     "output_type": "stream",
     "text": [
      "/usr/lib/python3/dist-packages/scipy/__init__.py:146: UserWarning: A NumPy version >=1.17.3 and <1.25.0 is required for this version of SciPy (detected version 1.26.0\n",
      "  warnings.warn(f\"A NumPy version >={np_minversion} and <{np_maxversion}\"\n",
      "/usr/lib/python3/dist-packages/bs4/__init__.py:431: MarkupResemblesLocatorWarning: \"https://www.amazon.com/gp/product/B00HFX9WSG/ref=oh_aui_detailpage_o03_s00?ie=UTF8&psc=1#productDetails\" looks like a URL. Beautiful Soup is not an HTTP client. You should probably use an HTTP client like requests to get the document behind the URL, and feed that document to Beautiful Soup.\n",
      "  warnings.warn(\n",
      "/usr/lib/python3/dist-packages/bs4/__init__.py:431: MarkupResemblesLocatorWarning: \"https://www.youtube.com/watch?v=q24XURDTmoM\" looks like a URL. Beautiful Soup is not an HTTP client. You should probably use an HTTP client like requests to get the document behind the URL, and feed that document to Beautiful Soup.\n",
      "  warnings.warn(\n",
      "/usr/lib/python3/dist-packages/bs4/__init__.py:431: MarkupResemblesLocatorWarning: \"https://www.amazon.com/dp/B00KH6E1NIO/ref=cm_cr_ryp_prd_ttl_sol_25\" looks like a URL. Beautiful Soup is not an HTTP client. You should probably use an HTTP client like requests to get the document behind the URL, and feed that document to Beautiful Soup.\n",
      "  warnings.warn(\n",
      "/usr/lib/python3/dist-packages/bs4/__init__.py:337: MarkupResemblesLocatorWarning: \"..\" looks like a directory name, not markup. You may want to open a file found in this directory and pass the filehandle into Beautiful Soup.\n",
      "  warnings.warn(\n",
      "/usr/lib/python3/dist-packages/bs4/__init__.py:431: MarkupResemblesLocatorWarning: \"https://www.amazon.com/dp/B00OKYQZDI/ref=cm_cr_ryp_prd_ttl_sol_4\" looks like a URL. Beautiful Soup is not an HTTP client. You should probably use an HTTP client like requests to get the document behind the URL, and feed that document to Beautiful Soup.\n",
      "  warnings.warn(\n",
      "/usr/lib/python3/dist-packages/bs4/__init__.py:431: MarkupResemblesLocatorWarning: \"https://www.amazon.com/gp/product/B015DCEQZY/ref=cm_cr_ryp_prd_ttl_sol_0\" looks like a URL. Beautiful Soup is not an HTTP client. You should probably use an HTTP client like requests to get the document behind the URL, and feed that document to Beautiful Soup.\n",
      "  warnings.warn(\n",
      "/usr/lib/python3/dist-packages/bs4/__init__.py:431: MarkupResemblesLocatorWarning: \"https://youtu.be/4ECmTfcwj9k\n",
      "\n",
      "I\" looks like a URL. Beautiful Soup is not an HTTP client. You should probably use an HTTP client like requests to get the document behind the URL, and feed that document to Beautiful Soup.\n",
      "  warnings.warn(\n",
      "/usr/lib/python3/dist-packages/bs4/__init__.py:431: MarkupResemblesLocatorWarning: \"https://images-na.ssl-images-amazon.com/images/I/41bqrI66usL._SS300_.jpg\" looks like a URL. Beautiful Soup is not an HTTP client. You should probably use an HTTP client like requests to get the document behind the URL, and feed that document to Beautiful Soup.\n",
      "  warnings.warn(\n"
     ]
    },
    {
     "name": "stdout",
     "output_type": "stream",
     "text": [
      "2441                             great headphones cord short\n",
      "2442       really like headphone wanted something office ...\n",
      "2443                wire headphone break less month dont buy\n",
      "2444                                                    good\n",
      "2445       currently return product sound doesnt come spe...\n",
      "                                 ...                        \n",
      "6739463    work perfect purchase husband car hook phone v...\n",
      "6739464    attractive solidly make cable unfortunately al...\n",
      "6739559    use week time write work find earphone style q...\n",
      "6739560    product work great get charge simply disconnec...\n",
      "6739561    earphones good like design akin apple earphone...\n",
      "Name: reviewText, Length: 625431, dtype: object\n"
     ]
    }
   ],
   "source": [
    "import re\n",
    "import unicodedata\n",
    "from bs4 import BeautifulSoup\n",
    "from unidecode import unidecode\n",
    "from nltk.tokenize import word_tokenize\n",
    "from nltk.corpus import stopwords\n",
    "from nltk.stem import WordNetLemmatizer\n",
    "\n",
    "\n",
    "def preprocess_text(text):\n",
    "    soup = BeautifulSoup(text, \"html.parser\")\n",
    "    filter_text_1 = soup.get_text()\n",
    "    filter_text_2 = unidecode(filter_text_1)\n",
    "    acronyms = {\"lol\": \"laugh out loud\", \n",
    "                \"brb\": \"be right back\",\n",
    "                \"PR\": \"Performance Review\",\n",
    "                \"ER\": \"Experience Report\",\n",
    "                \"RR\": \"Rating Review\",\n",
    "                \"SR\": \"Specification Review\",\n",
    "                \"CR\": \"Consumer Report\",\n",
    "                \"TR\": \"Tech Review\",\n",
    "                \"FR\": \"Feature Review\",\n",
    "                \"SR\": \"Sound Review\",\n",
    "                \"RR\": \"Recommendation Report\",\n",
    "                \"Lit\": \"Luminance Intensity Threshold\",\n",
    "                \"Fire\": \"Flammability Index Ratio Estimator\",\n",
    "                \"Fam\": \"Familial Association Metric\",\n",
    "                \"GOAT\": \"Global Optimization Algorithm Technique\",\n",
    "                \"Slay\": \"Statistical Layer Analysis Yield\",\n",
    "                \"On point\": \"Optimal Numerical Point\",\n",
    "                \"Snatched\": \"Sensor Network Attack Detection\",\n",
    "                \"Dope\": \"Data Optimization Performance Evaluation\",\n",
    "                \"Flex\": \"Feature-Level Extraction Process\",\n",
    "                \"Savage\": \"Statistical Analysis of Variance and Generalized Estimation\"\n",
    "               }\n",
    "    # Replace acronyms with their expansions\n",
    "    for acronym, expansion in acronyms.items():\n",
    "        filter_text_3 = filter_text_2.replace(acronym, expansion)\n",
    "    filter_text_4 = re.sub(r'[^a-zA-Z\\s]', '', filter_text_3)\n",
    "    lemmatizer = WordNetLemmatizer()\n",
    "    tokenized_text = word_tokenize(filter_text_4)\n",
    "    lemmatized_text = [lemmatizer.lemmatize(word, pos='v') for word in tokenized_text]\n",
    "    filter_text_5 = ' '.join(lemmatized_text)\n",
    "    # Convert text to lowercase\n",
    "    filter_text_6 = filter_text_5.lower()\n",
    "    # Remove stopwords\n",
    "    stop_words = set(stopwords.words('english'))\n",
    "    word_tokens = word_tokenize(filter_text_6)\n",
    "    filtered_text = [word for word in word_tokens if word not in stop_words]\n",
    "    final_text = ' '.join(filtered_text)\n",
    "    #print(final_text)\n",
    "    return final_text\n",
    "\n",
    "headphone_electronics['reviewText'] = headphone_electronics['reviewText'].apply(preprocess_text)\n",
    "\n",
    "# Print the preprocessed DataFrame\n",
    "print(headphone_electronics['reviewText'])"
   ]
  },
  {
   "cell_type": "code",
   "execution_count": 17,
   "id": "6a6e7814",
   "metadata": {},
   "outputs": [
    {
     "data": {
      "text/html": [
       "<div>\n",
       "<style scoped>\n",
       "    .dataframe tbody tr th:only-of-type {\n",
       "        vertical-align: middle;\n",
       "    }\n",
       "\n",
       "    .dataframe tbody tr th {\n",
       "        vertical-align: top;\n",
       "    }\n",
       "\n",
       "    .dataframe thead th {\n",
       "        text-align: right;\n",
       "    }\n",
       "</style>\n",
       "<table border=\"1\" class=\"dataframe\">\n",
       "  <thead>\n",
       "    <tr style=\"text-align: right;\">\n",
       "      <th></th>\n",
       "      <th>overall</th>\n",
       "      <th>reviewTime</th>\n",
       "      <th>reviewerID</th>\n",
       "      <th>asin</th>\n",
       "      <th>style</th>\n",
       "      <th>reviewerName</th>\n",
       "      <th>reviewText</th>\n",
       "      <th>style_json</th>\n",
       "    </tr>\n",
       "  </thead>\n",
       "  <tbody>\n",
       "    <tr>\n",
       "      <th>2441</th>\n",
       "      <td>5.0</td>\n",
       "      <td>02 22, 2015</td>\n",
       "      <td>A38RQFVQ1AKJQQ</td>\n",
       "      <td>4126895493</td>\n",
       "      <td>{'Color:': ' Blue W/Mic'}</td>\n",
       "      <td>George Walker</td>\n",
       "      <td>great headphones cord short</td>\n",
       "      <td>{\"Color:\": \" Blue W/Mic\"}</td>\n",
       "    </tr>\n",
       "    <tr>\n",
       "      <th>2442</th>\n",
       "      <td>5.0</td>\n",
       "      <td>05 8, 2017</td>\n",
       "      <td>A299MRB9O6GWDE</td>\n",
       "      <td>4126895493</td>\n",
       "      <td>{'Color:': ' Blue Zebra W/Mic'}</td>\n",
       "      <td>Carolyn B</td>\n",
       "      <td>really like headphone wanted something office ...</td>\n",
       "      <td>{\"Color:\": \" Blue Zebra W/Mic\"}</td>\n",
       "    </tr>\n",
       "    <tr>\n",
       "      <th>2443</th>\n",
       "      <td>1.0</td>\n",
       "      <td>11 5, 2016</td>\n",
       "      <td>A3ACFC6DQQLIQT</td>\n",
       "      <td>4126895493</td>\n",
       "      <td>{'Color:': ' Blue W/Mic'}</td>\n",
       "      <td>MK</td>\n",
       "      <td>wire headphone break less month dont buy</td>\n",
       "      <td>{\"Color:\": \" Blue W/Mic\"}</td>\n",
       "    </tr>\n",
       "    <tr>\n",
       "      <th>2444</th>\n",
       "      <td>3.0</td>\n",
       "      <td>09 24, 2016</td>\n",
       "      <td>A36BC0YFDBNB5X</td>\n",
       "      <td>4126895493</td>\n",
       "      <td>{'Color:': ' Green'}</td>\n",
       "      <td>bigboy</td>\n",
       "      <td>good</td>\n",
       "      <td>{\"Color:\": \" Green\"}</td>\n",
       "    </tr>\n",
       "    <tr>\n",
       "      <th>2445</th>\n",
       "      <td>1.0</td>\n",
       "      <td>07 17, 2016</td>\n",
       "      <td>A212PQ0HQPNNWM</td>\n",
       "      <td>4126895493</td>\n",
       "      <td>{'Color:': ' Violet Purple'}</td>\n",
       "      <td>Kelly Hales</td>\n",
       "      <td>currently return product sound doesnt come spe...</td>\n",
       "      <td>{\"Color:\": \" Violet Purple\"}</td>\n",
       "    </tr>\n",
       "  </tbody>\n",
       "</table>\n",
       "</div>"
      ],
      "text/plain": [
       "      overall   reviewTime      reviewerID        asin  \\\n",
       "2441      5.0  02 22, 2015  A38RQFVQ1AKJQQ  4126895493   \n",
       "2442      5.0   05 8, 2017  A299MRB9O6GWDE  4126895493   \n",
       "2443      1.0   11 5, 2016  A3ACFC6DQQLIQT  4126895493   \n",
       "2444      3.0  09 24, 2016  A36BC0YFDBNB5X  4126895493   \n",
       "2445      1.0  07 17, 2016  A212PQ0HQPNNWM  4126895493   \n",
       "\n",
       "                                style   reviewerName  \\\n",
       "2441        {'Color:': ' Blue W/Mic'}  George Walker   \n",
       "2442  {'Color:': ' Blue Zebra W/Mic'}      Carolyn B   \n",
       "2443        {'Color:': ' Blue W/Mic'}             MK   \n",
       "2444             {'Color:': ' Green'}         bigboy   \n",
       "2445     {'Color:': ' Violet Purple'}    Kelly Hales   \n",
       "\n",
       "                                             reviewText  \\\n",
       "2441                        great headphones cord short   \n",
       "2442  really like headphone wanted something office ...   \n",
       "2443           wire headphone break less month dont buy   \n",
       "2444                                               good   \n",
       "2445  currently return product sound doesnt come spe...   \n",
       "\n",
       "                           style_json  \n",
       "2441        {\"Color:\": \" Blue W/Mic\"}  \n",
       "2442  {\"Color:\": \" Blue Zebra W/Mic\"}  \n",
       "2443        {\"Color:\": \" Blue W/Mic\"}  \n",
       "2444             {\"Color:\": \" Green\"}  \n",
       "2445     {\"Color:\": \" Violet Purple\"}  "
      ]
     },
     "execution_count": 17,
     "metadata": {},
     "output_type": "execute_result"
    }
   ],
   "source": [
    "headphone_electronics.head()"
   ]
  },
  {
   "cell_type": "code",
   "execution_count": 18,
   "id": "b4829d76",
   "metadata": {},
   "outputs": [],
   "source": [
    "headphone_electronics.to_pickle('pre_processed.pkl')"
   ]
  },
  {
   "cell_type": "markdown",
   "id": "73013234",
   "metadata": {},
   "source": [
    "# Top 20 most reviewed brands in HeadPhones"
   ]
  },
  {
   "cell_type": "code",
   "execution_count": 21,
   "id": "43e6cccf",
   "metadata": {},
   "outputs": [],
   "source": [
    "meta_df = pd.read_pickle('Meta_Electronics.pkl')"
   ]
  },
  {
   "cell_type": "code",
   "execution_count": 22,
   "id": "adcaac6a",
   "metadata": {
    "scrolled": true
   },
   "outputs": [
    {
     "name": "stdout",
     "output_type": "stream",
     "text": [
      "Rows where 'headphones' occur:\n",
      "\n"
     ]
    },
    {
     "data": {
      "text/html": [
       "<div>\n",
       "<style scoped>\n",
       "    .dataframe tbody tr th:only-of-type {\n",
       "        vertical-align: middle;\n",
       "    }\n",
       "\n",
       "    .dataframe tbody tr th {\n",
       "        vertical-align: top;\n",
       "    }\n",
       "\n",
       "    .dataframe thead th {\n",
       "        text-align: right;\n",
       "    }\n",
       "</style>\n",
       "<table border=\"1\" class=\"dataframe\">\n",
       "  <thead>\n",
       "    <tr style=\"text-align: right;\">\n",
       "      <th></th>\n",
       "      <th>category</th>\n",
       "      <th>tech1</th>\n",
       "      <th>description</th>\n",
       "      <th>fit</th>\n",
       "      <th>title</th>\n",
       "      <th>also_buy</th>\n",
       "      <th>tech2</th>\n",
       "      <th>brand</th>\n",
       "      <th>feature</th>\n",
       "      <th>rank</th>\n",
       "      <th>also_view</th>\n",
       "      <th>main_cat</th>\n",
       "      <th>similar_item</th>\n",
       "      <th>date</th>\n",
       "      <th>price</th>\n",
       "      <th>asin</th>\n",
       "      <th>imageURL</th>\n",
       "      <th>imageURLHighRes</th>\n",
       "      <th>details</th>\n",
       "    </tr>\n",
       "  </thead>\n",
       "  <tbody>\n",
       "    <tr>\n",
       "      <th>0</th>\n",
       "      <td>['Electronics', 'Headphones']</td>\n",
       "      <td></td>\n",
       "      <td>['* Answer/end / reject a call * Call redial, ...</td>\n",
       "      <td></td>\n",
       "      <td>Stylish Wireless Stereo Bluetooth Headset/ Hea...</td>\n",
       "      <td>[]</td>\n",
       "      <td></td>\n",
       "      <td>MyNetDeals</td>\n",
       "      <td>['Bluetooth Ver 2.1 + EDR. Compatible with all...</td>\n",
       "      <td>['&gt;#5,689,866 in Cell Phones &amp; Accessories (Se...</td>\n",
       "      <td>[]</td>\n",
       "      <td>Cell Phones &amp; Accessories</td>\n",
       "      <td></td>\n",
       "      <td></td>\n",
       "      <td></td>\n",
       "      <td>B005V3IYHM</td>\n",
       "      <td>['https://images-na.ssl-images-amazon.com/imag...</td>\n",
       "      <td>['https://images-na.ssl-images-amazon.com/imag...</td>\n",
       "      <td>{}</td>\n",
       "    </tr>\n",
       "    <tr>\n",
       "      <th>1</th>\n",
       "      <td>['Electronics', 'Headphones', 'Earbud Headphon...</td>\n",
       "      <td></td>\n",
       "      <td>['Evolved from personal monitor technology roa...</td>\n",
       "      <td></td>\n",
       "      <td>Shure SE846-CL Sound Isolating Earphones with ...</td>\n",
       "      <td>[]</td>\n",
       "      <td></td>\n",
       "      <td>Shure</td>\n",
       "      <td>['Quad Hi-Definition MicroDrivers: For extende...</td>\n",
       "      <td>['&gt;#80,130 in Cell Phones &amp; Accessories (See T...</td>\n",
       "      <td>['B003NSBKSW', 'B00KQOZA1Y', 'B07C7HNH88', 'B0...</td>\n",
       "      <td>All Electronics</td>\n",
       "      <td>class=\"a-bordered a-horizontal-stripes  a-spa...</td>\n",
       "      <td>June 21, 2013</td>\n",
       "      <td>$28.01</td>\n",
       "      <td>B00DIUGW6A</td>\n",
       "      <td>['https://images-na.ssl-images-amazon.com/imag...</td>\n",
       "      <td>['https://images-na.ssl-images-amazon.com/imag...</td>\n",
       "      <td>{}</td>\n",
       "    </tr>\n",
       "    <tr>\n",
       "      <th>2</th>\n",
       "      <td>['Electronics', 'Headphones']</td>\n",
       "      <td></td>\n",
       "      <td>[]</td>\n",
       "      <td></td>\n",
       "      <td>Stylish Wireless Stereo Bluetooth Headset/ Hea...</td>\n",
       "      <td>[]</td>\n",
       "      <td></td>\n",
       "      <td>MyNetDeals</td>\n",
       "      <td>['Bluetooth Ver 2.1 + EDR. Compatible with all...</td>\n",
       "      <td>1,651,594 in Cell Phones &amp; Accessories (</td>\n",
       "      <td>[]</td>\n",
       "      <td>Amazon Devices</td>\n",
       "      <td></td>\n",
       "      <td>&lt;/div&gt;</td>\n",
       "      <td></td>\n",
       "      <td>B005V3J3FE</td>\n",
       "      <td>['https://images-na.ssl-images-amazon.com/imag...</td>\n",
       "      <td>['https://images-na.ssl-images-amazon.com/imag...</td>\n",
       "      <td>{'ASIN:': 'B005V3J3FE', ' Date first listed on...</td>\n",
       "    </tr>\n",
       "    <tr>\n",
       "      <th>3</th>\n",
       "      <td>['Electronics', 'Computers &amp; Accessories', 'Ta...</td>\n",
       "      <td></td>\n",
       "      <td>['Our highly favored Samsung Galaxy Tab 3 10.1...</td>\n",
       "      <td></td>\n",
       "      <td>INVELLOP Black Leatherette Case Cover for Sams...</td>\n",
       "      <td>[]</td>\n",
       "      <td></td>\n",
       "      <td>INVELLOP</td>\n",
       "      <td>['Magnetic strip built inside for secure closu...</td>\n",
       "      <td>['&gt;#66,794 in Electronics &gt; Computers &amp; Access...</td>\n",
       "      <td>[]</td>\n",
       "      <td>Computers</td>\n",
       "      <td></td>\n",
       "      <td>June 21, 2013</td>\n",
       "      <td></td>\n",
       "      <td>B00DIW2YJM</td>\n",
       "      <td>['https://images-na.ssl-images-amazon.com/imag...</td>\n",
       "      <td>['https://images-na.ssl-images-amazon.com/imag...</td>\n",
       "      <td>{}</td>\n",
       "    </tr>\n",
       "    <tr>\n",
       "      <th>4</th>\n",
       "      <td>['Electronics', 'Headphones']</td>\n",
       "      <td></td>\n",
       "      <td>['NMotion Earbud Features : Bluetooth 4.0 Ster...</td>\n",
       "      <td></td>\n",
       "      <td>Jarv NMotion Wireless Bluetooth 4.0 Stereo Ear...</td>\n",
       "      <td>[]</td>\n",
       "      <td></td>\n",
       "      <td>Jarv</td>\n",
       "      <td>['Bluetooth 4.0 stereo earbuds with in-line mi...</td>\n",
       "      <td>['&gt;#414,519 in Cell Phones &amp; Accessories (See ...</td>\n",
       "      <td>['B00IHJII4Q']</td>\n",
       "      <td>Cell Phones &amp; Accessories</td>\n",
       "      <td></td>\n",
       "      <td></td>\n",
       "      <td></td>\n",
       "      <td>B00M7NIZ3W</td>\n",
       "      <td>['https://images-na.ssl-images-amazon.com/imag...</td>\n",
       "      <td>['https://images-na.ssl-images-amazon.com/imag...</td>\n",
       "      <td>{}</td>\n",
       "    </tr>\n",
       "  </tbody>\n",
       "</table>\n",
       "</div>"
      ],
      "text/plain": [
       "                                            category tech1  \\\n",
       "0                      ['Electronics', 'Headphones']         \n",
       "1  ['Electronics', 'Headphones', 'Earbud Headphon...         \n",
       "2                      ['Electronics', 'Headphones']         \n",
       "3  ['Electronics', 'Computers & Accessories', 'Ta...         \n",
       "4                      ['Electronics', 'Headphones']         \n",
       "\n",
       "                                         description fit  \\\n",
       "0  ['* Answer/end / reject a call * Call redial, ...       \n",
       "1  ['Evolved from personal monitor technology roa...       \n",
       "2                                                 []       \n",
       "3  ['Our highly favored Samsung Galaxy Tab 3 10.1...       \n",
       "4  ['NMotion Earbud Features : Bluetooth 4.0 Ster...       \n",
       "\n",
       "                                               title also_buy tech2  \\\n",
       "0  Stylish Wireless Stereo Bluetooth Headset/ Hea...       []         \n",
       "1  Shure SE846-CL Sound Isolating Earphones with ...       []         \n",
       "2  Stylish Wireless Stereo Bluetooth Headset/ Hea...       []         \n",
       "3  INVELLOP Black Leatherette Case Cover for Sams...       []         \n",
       "4  Jarv NMotion Wireless Bluetooth 4.0 Stereo Ear...       []         \n",
       "\n",
       "        brand                                            feature  \\\n",
       "0  MyNetDeals  ['Bluetooth Ver 2.1 + EDR. Compatible with all...   \n",
       "1       Shure  ['Quad Hi-Definition MicroDrivers: For extende...   \n",
       "2  MyNetDeals  ['Bluetooth Ver 2.1 + EDR. Compatible with all...   \n",
       "3    INVELLOP  ['Magnetic strip built inside for secure closu...   \n",
       "4        Jarv  ['Bluetooth 4.0 stereo earbuds with in-line mi...   \n",
       "\n",
       "                                                rank  \\\n",
       "0  ['>#5,689,866 in Cell Phones & Accessories (Se...   \n",
       "1  ['>#80,130 in Cell Phones & Accessories (See T...   \n",
       "2           1,651,594 in Cell Phones & Accessories (   \n",
       "3  ['>#66,794 in Electronics > Computers & Access...   \n",
       "4  ['>#414,519 in Cell Phones & Accessories (See ...   \n",
       "\n",
       "                                           also_view  \\\n",
       "0                                                 []   \n",
       "1  ['B003NSBKSW', 'B00KQOZA1Y', 'B07C7HNH88', 'B0...   \n",
       "2                                                 []   \n",
       "3                                                 []   \n",
       "4                                     ['B00IHJII4Q']   \n",
       "\n",
       "                    main_cat  \\\n",
       "0  Cell Phones & Accessories   \n",
       "1            All Electronics   \n",
       "2             Amazon Devices   \n",
       "3                  Computers   \n",
       "4  Cell Phones & Accessories   \n",
       "\n",
       "                                        similar_item           date   price  \\\n",
       "0                                                                             \n",
       "1   class=\"a-bordered a-horizontal-stripes  a-spa...  June 21, 2013  $28.01   \n",
       "2                                                            </div>           \n",
       "3                                                     June 21, 2013           \n",
       "4                                                                             \n",
       "\n",
       "         asin                                           imageURL  \\\n",
       "0  B005V3IYHM  ['https://images-na.ssl-images-amazon.com/imag...   \n",
       "1  B00DIUGW6A  ['https://images-na.ssl-images-amazon.com/imag...   \n",
       "2  B005V3J3FE  ['https://images-na.ssl-images-amazon.com/imag...   \n",
       "3  B00DIW2YJM  ['https://images-na.ssl-images-amazon.com/imag...   \n",
       "4  B00M7NIZ3W  ['https://images-na.ssl-images-amazon.com/imag...   \n",
       "\n",
       "                                     imageURLHighRes  \\\n",
       "0  ['https://images-na.ssl-images-amazon.com/imag...   \n",
       "1  ['https://images-na.ssl-images-amazon.com/imag...   \n",
       "2  ['https://images-na.ssl-images-amazon.com/imag...   \n",
       "3  ['https://images-na.ssl-images-amazon.com/imag...   \n",
       "4  ['https://images-na.ssl-images-amazon.com/imag...   \n",
       "\n",
       "                                             details  \n",
       "0                                                 {}  \n",
       "1                                                 {}  \n",
       "2  {'ASIN:': 'B005V3J3FE', ' Date first listed on...  \n",
       "3                                                 {}  \n",
       "4                                                 {}  "
      ]
     },
     "execution_count": 22,
     "metadata": {},
     "output_type": "execute_result"
    }
   ],
   "source": [
    "#Get all rows from meta data where category has atleast headphones in it\n",
    "indexes = []\n",
    "for col in meta_df.columns:\n",
    "    if meta_df[col].dtype == 'object':\n",
    "        mask = meta_df[col].astype(str).str.contains('headphones', case=False)\n",
    "        indexes.extend(meta_df[mask].index)\n",
    "\n",
    "indexes = list(set(indexes))\n",
    "indexes_df = pd.DataFrame(indexes, columns=['asin'])\n",
    "\n",
    "\n",
    "# Create a new DataFrame containing only the rows where \"headphones\" occur\n",
    "headphones_meta = meta_df.loc[indexes].reset_index(drop = True)\n",
    "\n",
    "# Print the new DataFrame\n",
    "print(\"Rows where 'headphones' occur:\")\n",
    "print()\n",
    "headphones_meta.head()"
   ]
  },
  {
   "cell_type": "code",
   "execution_count": 23,
   "id": "30b1052c",
   "metadata": {},
   "outputs": [
    {
     "name": "stdout",
     "output_type": "stream",
     "text": [
      "(46620, 19)\n"
     ]
    }
   ],
   "source": [
    "print(headphones_meta.shape)"
   ]
  },
  {
   "cell_type": "code",
   "execution_count": 24,
   "id": "e33e40ea",
   "metadata": {},
   "outputs": [
    {
     "name": "stdout",
     "output_type": "stream",
     "text": [
      "Number of duplicate rows in the dataframe: 1788\n"
     ]
    }
   ],
   "source": [
    "#Remove Duplicate\n",
    "headphone_meta_test = headphones_meta\n",
    "headphone_meta_test = headphone_meta_test.astype(str)\n",
    "num_duplicates = headphone_meta_test.duplicated().sum()\n",
    "\n",
    "print(\"Number of duplicate rows in the dataframe:\", num_duplicates)"
   ]
  },
  {
   "cell_type": "code",
   "execution_count": 25,
   "id": "1653af58",
   "metadata": {},
   "outputs": [
    {
     "name": "stdout",
     "output_type": "stream",
     "text": [
      "Indexes of duplicate rows that need to be dropped:\n",
      "Index([11582, 11584, 11585, 11586, 11588, 11589, 11597, 11609, 11610, 11614,\n",
      "       ...\n",
      "       22414, 22426, 22428, 22512, 30803, 31040, 34539, 34758, 38381, 38552],\n",
      "      dtype='int64', length=1788)\n",
      "1788\n"
     ]
    }
   ],
   "source": [
    "duplicate_indexes = []\n",
    "duplicate_indexes = headphone_meta_test[headphone_meta_test.duplicated()].index\n",
    "\n",
    "print(\"Indexes of duplicate rows that need to be dropped:\")\n",
    "print(duplicate_indexes)\n",
    "print(len(duplicate_indexes))"
   ]
  },
  {
   "cell_type": "code",
   "execution_count": 26,
   "id": "701c636a",
   "metadata": {},
   "outputs": [],
   "source": [
    "headphones_meta = headphones_meta.drop(duplicate_indexes)"
   ]
  },
  {
   "cell_type": "code",
   "execution_count": 27,
   "id": "096cbaf5",
   "metadata": {},
   "outputs": [
    {
     "name": "stdout",
     "output_type": "stream",
     "text": [
      "(44832, 19)\n"
     ]
    }
   ],
   "source": [
    "print(headphones_meta.shape)"
   ]
  },
  {
   "cell_type": "code",
   "execution_count": 27,
   "id": "8b3498eb",
   "metadata": {},
   "outputs": [],
   "source": [
    "headphones_meta.to_pickle(\"Meta_final.pkl\")"
   ]
  },
  {
   "cell_type": "code",
   "execution_count": 28,
   "id": "9c6bb433",
   "metadata": {},
   "outputs": [],
   "source": [
    "headphone_electronics.to_pickle(\"Electronics_final.pkl\")"
   ]
  },
  {
   "cell_type": "code",
   "execution_count": 28,
   "id": "84d47adb",
   "metadata": {},
   "outputs": [
    {
     "name": "stdout",
     "output_type": "stream",
     "text": [
      "12843\n",
      "             asin        brand\n",
      "1      B00DIUGW6A        Shure\n",
      "3      B00DIW2YJM     INVELLOP\n",
      "4      B00M7NIZ3W         Jarv\n",
      "9      B01232LZZQ         Mpow\n",
      "12     B0019MLFYS           HP\n",
      "...           ...          ...\n",
      "46605  B00DIOAM4Y  Plantronics\n",
      "46611  B00DIOALYA  Plantronics\n",
      "46612  B00DIOALWC  Plantronics\n",
      "46613  B00M7N36KO         Jarv\n",
      "46614  B00M7NHK24         Jarv\n",
      "\n",
      "[12843 rows x 2 columns]\n"
     ]
    }
   ],
   "source": [
    "#Create a new dataframe with only asin and brand as the columns - asin being unique\n",
    "unique_asin_values = headphone_electronics['asin'].unique()\n",
    "print(len(unique_asin_values))\n",
    "brand_name = headphones_meta[headphones_meta['asin'].isin(unique_asin_values)][['asin','brand']]\n",
    "print(brand_name)"
   ]
  },
  {
   "cell_type": "code",
   "execution_count": 29,
   "id": "56a2d816",
   "metadata": {},
   "outputs": [],
   "source": [
    "merged_df = headphone_electronics"
   ]
  },
  {
   "cell_type": "code",
   "execution_count": 30,
   "id": "c0cb31e5",
   "metadata": {},
   "outputs": [
    {
     "name": "stdout",
     "output_type": "stream",
     "text": [
      "        overall   reviewTime      reviewerID        asin  \\\n",
      "0           5.0  02 22, 2015  A38RQFVQ1AKJQQ  4126895493   \n",
      "1           5.0   05 8, 2017  A299MRB9O6GWDE  4126895493   \n",
      "2           1.0   11 5, 2016  A3ACFC6DQQLIQT  4126895493   \n",
      "3           3.0  09 24, 2016  A36BC0YFDBNB5X  4126895493   \n",
      "4           1.0  07 17, 2016  A212PQ0HQPNNWM  4126895493   \n",
      "...         ...          ...             ...         ...   \n",
      "625426      5.0  04 10, 2017  A23BQ4GZNFBLET  B01HI9GG30   \n",
      "625427      3.0  02 11, 2017  A205H5OQKYCPSH  B01HI9GG30   \n",
      "625428      5.0  01 17, 2017   AIW5NLEN5V40Y  B01HI9GG30   \n",
      "625429      5.0   10 8, 2016  A39UA7Q4FLM0DL  B01HI9GG30   \n",
      "625430      1.0  08 28, 2016  A3ND52BNMSF2WD  B01HI9GG30   \n",
      "\n",
      "                                  style   reviewerName  \\\n",
      "0             {'Color:': ' Blue W/Mic'}  George Walker   \n",
      "1       {'Color:': ' Blue Zebra W/Mic'}      Carolyn B   \n",
      "2             {'Color:': ' Blue W/Mic'}             MK   \n",
      "3                  {'Color:': ' Green'}         bigboy   \n",
      "4          {'Color:': ' Violet Purple'}    Kelly Hales   \n",
      "...                                 ...            ...   \n",
      "625426                              nan           John   \n",
      "625427                              nan           Apex   \n",
      "625428                              nan     ray sooley   \n",
      "625429                              nan   binkisoto799   \n",
      "625430                              nan  djwilliamson2   \n",
      "\n",
      "                                               reviewText  \\\n",
      "0       Great headphones. It's just the cord is too sh...   \n",
      "1       Really like these headphone.  Wanted something...   \n",
      "2       Wire to headphone broke off in less than a mon...   \n",
      "3                                               Very good   \n",
      "4       Currently returning this product because the s...   \n",
      "...                                                   ...   \n",
      "625426  I love this aux cord.  Some genius finally use...   \n",
      "625427       I get some crackling / popping occasionally.   \n",
      "625428  Great cable. Need the right angle for the broo...   \n",
      "625429  This worked out perfect!  I purchased this for...   \n",
      "625430  This is a very attractive and solidly made cab...   \n",
      "\n",
      "                             style_json           brand  \n",
      "0             {\"Color:\": \" Blue W/Mic\"}        HeadGear  \n",
      "1       {\"Color:\": \" Blue Zebra W/Mic\"}        HeadGear  \n",
      "2             {\"Color:\": \" Blue W/Mic\"}        HeadGear  \n",
      "3                  {\"Color:\": \" Green\"}        HeadGear  \n",
      "4          {\"Color:\": \" Violet Purple\"}        HeadGear  \n",
      "...                                 ...             ...  \n",
      "625426                              NaN  Beautiful-tech  \n",
      "625427                              NaN  Beautiful-tech  \n",
      "625428                              NaN  Beautiful-tech  \n",
      "625429                              NaN  Beautiful-tech  \n",
      "625430                              NaN  Beautiful-tech  \n",
      "\n",
      "[625431 rows x 9 columns]\n"
     ]
    }
   ],
   "source": [
    "merged_df = pd.merge(headphone_electronics, brand_name[['asin', 'brand']], on='asin', how='inner')\n",
    "print(merged_df)"
   ]
  },
  {
   "cell_type": "code",
   "execution_count": 31,
   "id": "ec8e0836",
   "metadata": {},
   "outputs": [
    {
     "name": "stdout",
     "output_type": "stream",
     "text": [
      "0\n"
     ]
    }
   ],
   "source": [
    "nan_count = merged_df['brand'].isna().sum()\n",
    "print(nan_count)"
   ]
  },
  {
   "cell_type": "code",
   "execution_count": 32,
   "id": "c7fb13a6",
   "metadata": {},
   "outputs": [
    {
     "name": "stdout",
     "output_type": "stream",
     "text": [
      "(625431, 9)\n"
     ]
    }
   ],
   "source": [
    "print(merged_df.shape)"
   ]
  },
  {
   "cell_type": "code",
   "execution_count": 33,
   "id": "8d1993c9",
   "metadata": {},
   "outputs": [],
   "source": [
    "new_headphone_electronics = merged_df\n",
    "new_headphone_electronics.to_pickle('merged_df.pkl')"
   ]
  },
  {
   "cell_type": "code",
   "execution_count": 34,
   "id": "f305e648",
   "metadata": {},
   "outputs": [
    {
     "name": "stdout",
     "output_type": "stream",
     "text": [
      "Top 20 most reviewed brands are brand\n",
      "Sony              37457\n",
      "Sennheiser        22977\n",
      "Plantronics       11948\n",
      "Bose              11583\n",
      "Panasonic          8519\n",
      "Skullcandy         7897\n",
      "Mpow               7605\n",
      "JLAB               7513\n",
      "Roku               7469\n",
      "JVC                7114\n",
      "TaoTronics         7065\n",
      "Samsung            7065\n",
      "Audio-Technica     7056\n",
      "Philips            7052\n",
      "Koss               7002\n",
      "Kinivo             6444\n",
      "Apple              6375\n",
      "Etre Jeune         5970\n",
      "AmazonBasics       5898\n",
      "LG                 5695\n",
      "Name: reviewText, dtype: int64\n"
     ]
    }
   ],
   "source": [
    "new_headphone_electronics = pd.read_pickle('merged_df.pkl')\n",
    "reviews_count_by_brand = new_headphone_electronics.groupby('brand')['reviewText'].count()\n",
    "\n",
    "# Sort the result in descending order\n",
    "reviews_count_by_brand = reviews_count_by_brand.sort_values(ascending=False)\n",
    "\n",
    "# Display the result\n",
    "print(f\"Top 20 most reviewed brands are {reviews_count_by_brand.head(20)}\")"
   ]
  },
  {
   "cell_type": "markdown",
   "id": "1f0e562e",
   "metadata": {},
   "source": [
    "# Top 20 least reviewed brands in HeadPhones"
   ]
  },
  {
   "cell_type": "code",
   "execution_count": 35,
   "id": "5c91bf10",
   "metadata": {},
   "outputs": [
    {
     "name": "stdout",
     "output_type": "stream",
     "text": [
      "Top 20 least reviewed brands are brand\n",
      "Honda                    1\n",
      "Digital Antenna          1\n",
      "Zelco Industries, Inc    3\n",
      "Fred & Friends           3\n",
      "DSI                      3\n",
      "NOIZY Brands             3\n",
      "DetectorPro              4\n",
      "SOUND-SQUARED CO.        4\n",
      "SmartDisk                4\n",
      "Replug                   4\n",
      "YooZoo                   4\n",
      "MEDca                    5\n",
      "Abusun                   5\n",
      "Basstyle                 5\n",
      "BearsFire                5\n",
      "ATEX                     5\n",
      "ABC(TM)                  5\n",
      "lexastech                5\n",
      "meda one                 5\n",
      "EveryMarket              5\n",
      "Name: reviewText, dtype: int64\n"
     ]
    }
   ],
   "source": [
    "# Sort the result in descending order\n",
    "reviews_count_by_brand_1 = reviews_count_by_brand.sort_values(ascending=True)\n",
    "\n",
    "# Display the result\n",
    "print(f\"Top 20 least reviewed brands are {reviews_count_by_brand_1.head(20)}\")"
   ]
  },
  {
   "cell_type": "markdown",
   "id": "e216c2e4",
   "metadata": {},
   "source": [
    "# Most Positively Reviewed Headphone"
   ]
  },
  {
   "cell_type": "code",
   "execution_count": 36,
   "id": "c8fd34d2",
   "metadata": {},
   "outputs": [
    {
     "name": "stdout",
     "output_type": "stream",
     "text": [
      "Highest rated brand: 4 in 1 Charger\n",
      "Average rating: 5.0\n"
     ]
    }
   ],
   "source": [
    "average_rating_by_brand = new_headphone_electronics.groupby('brand')['overall'].mean()\n",
    "\n",
    "highest_rated_brand = average_rating_by_brand.idxmax()\n",
    "highest_average_rating = average_rating_by_brand.max()\n",
    "\n",
    "print(\"Highest rated brand:\", highest_rated_brand)\n",
    "print(\"Average rating:\", highest_average_rating)"
   ]
  },
  {
   "cell_type": "markdown",
   "id": "b23f7e8d",
   "metadata": {},
   "source": [
    "# Show the count of ratings for the product over 5 consecutive years."
   ]
  },
  {
   "cell_type": "code",
   "execution_count": 37,
   "id": "3ee70039",
   "metadata": {},
   "outputs": [
    {
     "name": "stdout",
     "output_type": "stream",
     "text": [
      "Count of ratings for the last 5 years:\n",
      "reviewTime\n",
      "2014     93590\n",
      "2015    145260\n",
      "2016    143320\n",
      "2017     80955\n",
      "2018     32366\n",
      "Name: count, dtype: int64\n"
     ]
    }
   ],
   "source": [
    "ratings_df = new_headphone_electronics\n",
    "ratings_df['reviewTime'] = pd.to_datetime(ratings_df['reviewTime'], format='%m %d, %Y')\n",
    "\n",
    "# Get the maximum year present in the dataset\n",
    "max_year = ratings_df['reviewTime'].dt.year.max()\n",
    "\n",
    "# Calculate the start year for the latest 5 years\n",
    "start_year = max_year - 4\n",
    "\n",
    "# Filter ratings for the latest 5 years\n",
    "ratings_in_range = ratings_df[(ratings_df['reviewTime'].dt.year >= start_year) & (ratings_df['reviewTime'].dt.year <= max_year)]\n",
    "\n",
    "# Count the ratings for each year\n",
    "ratings_count_by_year = ratings_in_range['reviewTime'].dt.year.value_counts().sort_index()\n",
    "\n",
    "print(\"Count of ratings for the last 5 years:\")\n",
    "print(ratings_count_by_year)"
   ]
  },
  {
   "cell_type": "markdown",
   "id": "5b637bd3",
   "metadata": {},
   "source": [
    "# Word cloud for good and bad reviews"
   ]
  },
  {
   "cell_type": "code",
   "execution_count": 39,
   "id": "27c16611",
   "metadata": {
    "scrolled": true
   },
   "outputs": [
    {
     "data": {
      "image/png": "[encoded data removed]",
      "text/plain": [
       "<Figure size 864x432 with 2 Axes>"
      ]
     },
     "metadata": {
      "needs_background": "light"
     },
     "output_type": "display_data"
    }
   ],
   "source": [
    "from wordcloud import WordCloud\n",
    "import matplotlib.pyplot as plt\n",
    "from nltk.tokenize import word_tokenize\n",
    "from nltk.corpus import stopwords\n",
    "import string\n",
    "\n",
    "reviews_df = new_headphone_electronics\n",
    "\n",
    "# Tokenize the good reviews\n",
    "good_text = ' '.join(reviews_df[reviews_df['overall'] >= 3]['reviewText'])\n",
    "good_words = word_tokenize(good_text)\n",
    "\n",
    "# Tokenize the bad reviews\n",
    "bad_text = ' '.join(reviews_df[reviews_df['overall'] < 3]['reviewText'])\n",
    "bad_words = word_tokenize(bad_text)\n",
    "\n",
    "# Specify the path to a TrueType font file\n",
    "font_path = \"Arial.ttf\"\n",
    "\n",
    "# Generate word clouds with the specified font\n",
    "good_wordcloud = WordCloud(width=800, height=400, background_color='white', font_path=font_path).generate(' '.join(good_words))\n",
    "bad_wordcloud = WordCloud(width=800, height=400, background_color='white', font_path=font_path).generate(' '.join(bad_words))\n",
    "\n",
    "# Plot word clouds\n",
    "plt.figure(figsize=(12, 6))\n",
    "\n",
    "plt.subplot(1, 2, 1)\n",
    "plt.imshow(good_wordcloud, interpolation='bilinear')\n",
    "plt.title('Word Cloud for Good Ratings')\n",
    "plt.axis('off')\n",
    "\n",
    "plt.subplot(1, 2, 2)\n",
    "plt.imshow(bad_wordcloud, interpolation='bilinear')\n",
    "plt.title('Word Cloud for Bad Ratings')\n",
    "plt.axis('off')\n",
    "\n",
    "plt.show()\n"
   ]
  },
  {
   "cell_type": "code",
   "execution_count": 83,
   "id": "dfca7cf5",
   "metadata": {},
   "outputs": [
    {
     "name": "stdout",
     "output_type": "stream",
     "text": [
      "Most commonly used words for good reviews:\n",
      "sound - 355476\n",
      "use - 278604\n",
      "headphones - 263165\n",
      "great - 233230\n",
      "good - 222220\n",
      "work - 188505\n",
      "get - 174081\n",
      "quality - 165244\n",
      "like - 162151\n",
      "one - 133130\n",
      "-------------------------------------------------------\n",
      "Most commonly used words for bad reviews:\n",
      "sound - 55101\n",
      "work - 43919\n",
      "use - 41971\n",
      "headphones - 37902\n",
      "get - 37185\n",
      "one - 27859\n",
      "quality - 26193\n",
      "buy - 25795\n",
      "would - 25068\n",
      "good - 24909\n"
     ]
    }
   ],
   "source": [
    "#good_word_freq = {word: good_words.count(word) for word in good_words}\n",
    "from collections import Counter\n",
    "import heapq\n",
    "\n",
    "good_word_freq = Counter(good_words)\n",
    "#print(good_word_freq)\n",
    "bad_word_freq = Counter(bad_words)\n",
    "\n",
    "#Report the most common words for positive and negative reviews\n",
    "#print(\"Most commonly used words for positive reviews:\")\n",
    "#print(sorted(good_word_freq.items(), key=lambda x: x[1], reverse=True)[:10])  # Display top 10 words\n",
    "\n",
    "# Get top 10 most common words\n",
    "top_words = heapq.nlargest(10, good_word_freq.items(), key=lambda x: x[1])\n",
    "\n",
    "print(\"Most commonly used words for good reviews:\")\n",
    "for word, count in top_words:\n",
    "    print(word, \"-\", count)\n",
    "\n",
    "print('-------------------------------------------------------')\n",
    "\n",
    "top_bad_words = heapq.nlargest(10, bad_word_freq.items(), key=lambda x: x[1])\n",
    "\n",
    "print(\"Most commonly used words for bad reviews:\")\n",
    "for word, count in top_bad_words:\n",
    "    print(word, \"-\", count)"
   ]
  },
  {
   "cell_type": "markdown",
   "id": "715b4614",
   "metadata": {},
   "source": [
    "# Plot a pie chart for Distribution of Ratings vs. the No. of Reviews."
   ]
  },
  {
   "cell_type": "code",
   "execution_count": 38,
   "id": "e6e3b1bd",
   "metadata": {},
   "outputs": [
    {
     "data": {
      "image/png": "[encoded data removed]",
      "text/plain": [
       "<Figure size 576x576 with 1 Axes>"
      ]
     },
     "metadata": {},
     "output_type": "display_data"
    }
   ],
   "source": [
    "import matplotlib.pyplot as plt\n",
    "\n",
    "valid_reviews_df = new_headphone_electronics[new_headphone_electronics['reviewText'] != \"\"]\n",
    "\n",
    "# Count the number of reviews for each rating category\n",
    "rating_counts = valid_reviews_df['overall'].value_counts()\n",
    "\n",
    "# Plot the pie chart\n",
    "plt.figure(figsize=(8, 8))\n",
    "plt.pie(rating_counts, labels=rating_counts.index, autopct='%1.1f%%', startangle=140)\n",
    "plt.title('Distribution of Ratings (Excluding Empty Reviews)')\n",
    "plt.axis('equal')  # Equal aspect ratio ensures that pie is drawn as a circle.\n",
    "plt.show()\n",
    "\n"
   ]
  },
  {
   "cell_type": "markdown",
   "id": "3e6fa630",
   "metadata": {},
   "source": [
    "# Report in which year the product got maximum reviews. "
   ]
  },
  {
   "cell_type": "code",
   "execution_count": 39,
   "id": "00f18c07",
   "metadata": {},
   "outputs": [
    {
     "name": "stdout",
     "output_type": "stream",
     "text": [
      "Year with maximum reviews: 2015\n"
     ]
    }
   ],
   "source": [
    "new_headphone_electronics['reviewTime'] = pd.to_datetime(new_headphone_electronics['reviewTime'], format='%m %d, %Y')\n",
    "\n",
    "# Extract the year from the 'date' column\n",
    "new_headphone_electronics['year'] = new_headphone_electronics['reviewTime'].dt.year\n",
    "\n",
    "# Count the number of reviews for each year\n",
    "reviews_per_year = new_headphone_electronics['year'].value_counts()\n",
    "\n",
    "# Find the year with the maximum number of reviews\n",
    "max_reviews_year = reviews_per_year.idxmax()\n",
    "\n",
    "print(\"Year with maximum reviews:\", max_reviews_year)"
   ]
  },
  {
   "cell_type": "markdown",
   "id": "33a0c7ca",
   "metadata": {},
   "source": [
    "# Which year has the highest number of Customers?"
   ]
  },
  {
   "cell_type": "code",
   "execution_count": 40,
   "id": "518d5db4",
   "metadata": {},
   "outputs": [
    {
     "name": "stdout",
     "output_type": "stream",
     "text": [
      "Year with the highest number of customers: 2016\n"
     ]
    }
   ],
   "source": [
    "new_headphone_electronics['reviewTime'] = pd.to_datetime(new_headphone_electronics['reviewTime'], format='%m %d, %Y')\n",
    "\n",
    "# Extract the year from the 'date' column\n",
    "new_headphone_electronics['year'] = new_headphone_electronics['reviewTime'].dt.year\n",
    "\n",
    "# Count the number of unique customers for each year\n",
    "customers_per_year = new_headphone_electronics.groupby('year')['reviewerID'].nunique()\n",
    "\n",
    "# Find the year with the highest number of customers\n",
    "max_customers_year = customers_per_year.idxmax()\n",
    "\n",
    "print(\"Year with the highest number of customers:\", max_customers_year)"
   ]
  },
  {
   "cell_type": "code",
   "execution_count": null,
   "id": "cddd17dd",
   "metadata": {},
   "outputs": [],
   "source": []
  }
 ],
 "metadata": {
  "kernelspec": {
   "display_name": "Python 3 (ipykernel)",
   "language": "python",
   "name": "python3"
  },
  "language_info": {
   "codemirror_mode": {
    "name": "ipython",
    "version": 3
   },
   "file_extension": ".py",
   "mimetype": "text/x-python",
   "name": "python",
   "nbconvert_exporter": "python",
   "pygments_lexer": "ipython3",
   "version": "3.10.12"
  }
 },
 "nbformat": 4,
 "nbformat_minor": 5
}
