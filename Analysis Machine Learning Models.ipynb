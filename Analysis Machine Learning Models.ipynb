{
 "cells": [
  {
   "cell_type": "code",
   "execution_count": 1,
   "id": "48aac21c",
   "metadata": {},
   "outputs": [
    {
     "name": "stderr",
     "output_type": "stream",
     "text": [
      "/usr/lib/python3/dist-packages/scipy/__init__.py:146: UserWarning: A NumPy version >=1.17.3 and <1.25.0 is required for this version of SciPy (detected version 1.26.0\n",
      "  warnings.warn(f\"A NumPy version >={np_minversion} and <{np_maxversion}\"\n"
     ]
    }
   ],
   "source": [
    "import pandas as pd\n",
    "import numpy as np\n",
    "import os\n",
    "import pickle\n",
    "import pandas as pd\n",
    "from gensim.models import Word2Vec\n",
    "from nltk.tokenize import word_tokenize\n",
    "from nltk.corpus import stopwords\n",
    "import multiprocessing\n",
    "from sentence_transformers import SentenceTransformer"
   ]
  },
  {
   "cell_type": "code",
   "execution_count": 2,
   "id": "55c04f15",
   "metadata": {},
   "outputs": [],
   "source": [
    "headphone_electronics = pd.read_pickle('merged_df.pkl')"
   ]
  },
  {
   "cell_type": "code",
   "execution_count": 3,
   "id": "0bc84730",
   "metadata": {},
   "outputs": [
    {
     "data": {
      "text/html": [
       "<div>\n",
       "<style scoped>\n",
       "    .dataframe tbody tr th:only-of-type {\n",
       "        vertical-align: middle;\n",
       "    }\n",
       "\n",
       "    .dataframe tbody tr th {\n",
       "        vertical-align: top;\n",
       "    }\n",
       "\n",
       "    .dataframe thead th {\n",
       "        text-align: right;\n",
       "    }\n",
       "</style>\n",
       "<table border=\"1\" class=\"dataframe\">\n",
       "  <thead>\n",
       "    <tr style=\"text-align: right;\">\n",
       "      <th></th>\n",
       "      <th>overall</th>\n",
       "      <th>reviewTime</th>\n",
       "      <th>reviewerID</th>\n",
       "      <th>asin</th>\n",
       "      <th>style</th>\n",
       "      <th>reviewerName</th>\n",
       "      <th>reviewText</th>\n",
       "      <th>style_json</th>\n",
       "      <th>brand</th>\n",
       "    </tr>\n",
       "  </thead>\n",
       "  <tbody>\n",
       "    <tr>\n",
       "      <th>0</th>\n",
       "      <td>5.0</td>\n",
       "      <td>02 22, 2015</td>\n",
       "      <td>A38RQFVQ1AKJQQ</td>\n",
       "      <td>4126895493</td>\n",
       "      <td>{'Color:': ' Blue W/Mic'}</td>\n",
       "      <td>George Walker</td>\n",
       "      <td>great headphones cord short</td>\n",
       "      <td>{\"Color:\": \" Blue W/Mic\"}</td>\n",
       "      <td>HeadGear</td>\n",
       "    </tr>\n",
       "    <tr>\n",
       "      <th>1</th>\n",
       "      <td>5.0</td>\n",
       "      <td>05 8, 2017</td>\n",
       "      <td>A299MRB9O6GWDE</td>\n",
       "      <td>4126895493</td>\n",
       "      <td>{'Color:': ' Blue Zebra W/Mic'}</td>\n",
       "      <td>Carolyn B</td>\n",
       "      <td>really like headphone wanted something office ...</td>\n",
       "      <td>{\"Color:\": \" Blue Zebra W/Mic\"}</td>\n",
       "      <td>HeadGear</td>\n",
       "    </tr>\n",
       "    <tr>\n",
       "      <th>2</th>\n",
       "      <td>1.0</td>\n",
       "      <td>11 5, 2016</td>\n",
       "      <td>A3ACFC6DQQLIQT</td>\n",
       "      <td>4126895493</td>\n",
       "      <td>{'Color:': ' Blue W/Mic'}</td>\n",
       "      <td>MK</td>\n",
       "      <td>wire headphone break less month dont buy</td>\n",
       "      <td>{\"Color:\": \" Blue W/Mic\"}</td>\n",
       "      <td>HeadGear</td>\n",
       "    </tr>\n",
       "    <tr>\n",
       "      <th>3</th>\n",
       "      <td>3.0</td>\n",
       "      <td>09 24, 2016</td>\n",
       "      <td>A36BC0YFDBNB5X</td>\n",
       "      <td>4126895493</td>\n",
       "      <td>{'Color:': ' Green'}</td>\n",
       "      <td>bigboy</td>\n",
       "      <td>good</td>\n",
       "      <td>{\"Color:\": \" Green\"}</td>\n",
       "      <td>HeadGear</td>\n",
       "    </tr>\n",
       "    <tr>\n",
       "      <th>4</th>\n",
       "      <td>1.0</td>\n",
       "      <td>07 17, 2016</td>\n",
       "      <td>A212PQ0HQPNNWM</td>\n",
       "      <td>4126895493</td>\n",
       "      <td>{'Color:': ' Violet Purple'}</td>\n",
       "      <td>Kelly Hales</td>\n",
       "      <td>currently return product sound doesnt come spe...</td>\n",
       "      <td>{\"Color:\": \" Violet Purple\"}</td>\n",
       "      <td>HeadGear</td>\n",
       "    </tr>\n",
       "    <tr>\n",
       "      <th>...</th>\n",
       "      <td>...</td>\n",
       "      <td>...</td>\n",
       "      <td>...</td>\n",
       "      <td>...</td>\n",
       "      <td>...</td>\n",
       "      <td>...</td>\n",
       "      <td>...</td>\n",
       "      <td>...</td>\n",
       "      <td>...</td>\n",
       "    </tr>\n",
       "    <tr>\n",
       "      <th>625426</th>\n",
       "      <td>5.0</td>\n",
       "      <td>04 10, 2017</td>\n",
       "      <td>A23BQ4GZNFBLET</td>\n",
       "      <td>B01HI9GG30</td>\n",
       "      <td>nan</td>\n",
       "      <td>John</td>\n",
       "      <td>love aux cord genius finally use spring trick ...</td>\n",
       "      <td>NaN</td>\n",
       "      <td>Beautiful-tech</td>\n",
       "    </tr>\n",
       "    <tr>\n",
       "      <th>625427</th>\n",
       "      <td>3.0</td>\n",
       "      <td>02 11, 2017</td>\n",
       "      <td>A205H5OQKYCPSH</td>\n",
       "      <td>B01HI9GG30</td>\n",
       "      <td>nan</td>\n",
       "      <td>Apex</td>\n",
       "      <td>get crackle pop occasionally</td>\n",
       "      <td>NaN</td>\n",
       "      <td>Beautiful-tech</td>\n",
       "    </tr>\n",
       "    <tr>\n",
       "      <th>625428</th>\n",
       "      <td>5.0</td>\n",
       "      <td>01 17, 2017</td>\n",
       "      <td>AIW5NLEN5V40Y</td>\n",
       "      <td>B01HI9GG30</td>\n",
       "      <td>nan</td>\n",
       "      <td>ray sooley</td>\n",
       "      <td>great cable need right angle brookstone ampspe...</td>\n",
       "      <td>NaN</td>\n",
       "      <td>Beautiful-tech</td>\n",
       "    </tr>\n",
       "    <tr>\n",
       "      <th>625429</th>\n",
       "      <td>5.0</td>\n",
       "      <td>10 8, 2016</td>\n",
       "      <td>A39UA7Q4FLM0DL</td>\n",
       "      <td>B01HI9GG30</td>\n",
       "      <td>nan</td>\n",
       "      <td>binkisoto799</td>\n",
       "      <td>work perfect purchase husband car hook phone v...</td>\n",
       "      <td>NaN</td>\n",
       "      <td>Beautiful-tech</td>\n",
       "    </tr>\n",
       "    <tr>\n",
       "      <th>625430</th>\n",
       "      <td>1.0</td>\n",
       "      <td>08 28, 2016</td>\n",
       "      <td>A3ND52BNMSF2WD</td>\n",
       "      <td>B01HI9GG30</td>\n",
       "      <td>nan</td>\n",
       "      <td>djwilliamson2</td>\n",
       "      <td>attractive solidly make cable unfortunately al...</td>\n",
       "      <td>NaN</td>\n",
       "      <td>Beautiful-tech</td>\n",
       "    </tr>\n",
       "  </tbody>\n",
       "</table>\n",
       "<p>625431 rows × 9 columns</p>\n",
       "</div>"
      ],
      "text/plain": [
       "        overall   reviewTime      reviewerID        asin  \\\n",
       "0           5.0  02 22, 2015  A38RQFVQ1AKJQQ  4126895493   \n",
       "1           5.0   05 8, 2017  A299MRB9O6GWDE  4126895493   \n",
       "2           1.0   11 5, 2016  A3ACFC6DQQLIQT  4126895493   \n",
       "3           3.0  09 24, 2016  A36BC0YFDBNB5X  4126895493   \n",
       "4           1.0  07 17, 2016  A212PQ0HQPNNWM  4126895493   \n",
       "...         ...          ...             ...         ...   \n",
       "625426      5.0  04 10, 2017  A23BQ4GZNFBLET  B01HI9GG30   \n",
       "625427      3.0  02 11, 2017  A205H5OQKYCPSH  B01HI9GG30   \n",
       "625428      5.0  01 17, 2017   AIW5NLEN5V40Y  B01HI9GG30   \n",
       "625429      5.0   10 8, 2016  A39UA7Q4FLM0DL  B01HI9GG30   \n",
       "625430      1.0  08 28, 2016  A3ND52BNMSF2WD  B01HI9GG30   \n",
       "\n",
       "                                  style   reviewerName  \\\n",
       "0             {'Color:': ' Blue W/Mic'}  George Walker   \n",
       "1       {'Color:': ' Blue Zebra W/Mic'}      Carolyn B   \n",
       "2             {'Color:': ' Blue W/Mic'}             MK   \n",
       "3                  {'Color:': ' Green'}         bigboy   \n",
       "4          {'Color:': ' Violet Purple'}    Kelly Hales   \n",
       "...                                 ...            ...   \n",
       "625426                              nan           John   \n",
       "625427                              nan           Apex   \n",
       "625428                              nan     ray sooley   \n",
       "625429                              nan   binkisoto799   \n",
       "625430                              nan  djwilliamson2   \n",
       "\n",
       "                                               reviewText  \\\n",
       "0                             great headphones cord short   \n",
       "1       really like headphone wanted something office ...   \n",
       "2                wire headphone break less month dont buy   \n",
       "3                                                    good   \n",
       "4       currently return product sound doesnt come spe...   \n",
       "...                                                   ...   \n",
       "625426  love aux cord genius finally use spring trick ...   \n",
       "625427                       get crackle pop occasionally   \n",
       "625428  great cable need right angle brookstone ampspe...   \n",
       "625429  work perfect purchase husband car hook phone v...   \n",
       "625430  attractive solidly make cable unfortunately al...   \n",
       "\n",
       "                             style_json           brand  \n",
       "0             {\"Color:\": \" Blue W/Mic\"}        HeadGear  \n",
       "1       {\"Color:\": \" Blue Zebra W/Mic\"}        HeadGear  \n",
       "2             {\"Color:\": \" Blue W/Mic\"}        HeadGear  \n",
       "3                  {\"Color:\": \" Green\"}        HeadGear  \n",
       "4          {\"Color:\": \" Violet Purple\"}        HeadGear  \n",
       "...                                 ...             ...  \n",
       "625426                              NaN  Beautiful-tech  \n",
       "625427                              NaN  Beautiful-tech  \n",
       "625428                              NaN  Beautiful-tech  \n",
       "625429                              NaN  Beautiful-tech  \n",
       "625430                              NaN  Beautiful-tech  \n",
       "\n",
       "[625431 rows x 9 columns]"
      ]
     },
     "execution_count": 3,
     "metadata": {},
     "output_type": "execute_result"
    }
   ],
   "source": [
    "headphone_electronics"
   ]
  },
  {
   "cell_type": "markdown",
   "id": "a4af7172",
   "metadata": {},
   "source": [
    "# Get Embeddings of each reviewText using Word2Vec"
   ]
  },
  {
   "cell_type": "code",
   "execution_count": 4,
   "id": "de4c339f",
   "metadata": {},
   "outputs": [
    {
     "name": "stderr",
     "output_type": "stream",
     "text": [
      "No sentence-transformers model found with name bert-base-uncased. Creating a new one with MEAN pooling.\n"
     ]
    },
    {
     "data": {
      "application/vnd.jupyter.widget-view+json": {
       "model_id": "33b3304647c544d7ac3d3f6d5b17524f",
       "version_major": 2,
       "version_minor": 0
      },
      "text/plain": [
       "config.json:   0%|          | 0.00/570 [00:00<?, ?B/s]"
      ]
     },
     "metadata": {},
     "output_type": "display_data"
    },
    {
     "data": {
      "application/vnd.jupyter.widget-view+json": {
       "model_id": "ee5f40c8b40646e485340bef88ea06dd",
       "version_major": 2,
       "version_minor": 0
      },
      "text/plain": [
       "model.safetensors:   0%|          | 0.00/440M [00:00<?, ?B/s]"
      ]
     },
     "metadata": {},
     "output_type": "display_data"
    },
    {
     "data": {
      "application/vnd.jupyter.widget-view+json": {
       "model_id": "85ccd37ac6724fbaa3d6259d8388f842",
       "version_major": 2,
       "version_minor": 0
      },
      "text/plain": [
       "tokenizer_config.json:   0%|          | 0.00/48.0 [00:00<?, ?B/s]"
      ]
     },
     "metadata": {},
     "output_type": "display_data"
    },
    {
     "data": {
      "application/vnd.jupyter.widget-view+json": {
       "model_id": "f74333922d2f44f8839c1b62418a4ba3",
       "version_major": 2,
       "version_minor": 0
      },
      "text/plain": [
       "vocab.txt:   0%|          | 0.00/232k [00:00<?, ?B/s]"
      ]
     },
     "metadata": {},
     "output_type": "display_data"
    },
    {
     "data": {
      "application/vnd.jupyter.widget-view+json": {
       "model_id": "e9a943c755944e789db7cde11451dd6b",
       "version_major": 2,
       "version_minor": 0
      },
      "text/plain": [
       "tokenizer.json:   0%|          | 0.00/466k [00:00<?, ?B/s]"
      ]
     },
     "metadata": {},
     "output_type": "display_data"
    }
   ],
   "source": [
    "from sentence_transformers import SentenceTransformer\n",
    "\n",
    "# Load pre-trained BERT-based model\n",
    "model = SentenceTransformer('bert-base-uncased')"
   ]
  },
  {
   "cell_type": "code",
   "execution_count": 5,
   "id": "bf61f0ed-545c-4005-8670-a213e7797565",
   "metadata": {},
   "outputs": [],
   "source": [
    "def get_bert_embeddings(text):\n",
    "    # Generate embeddings\n",
    "    embeddings = model.encode(text)\n",
    "    return embeddings"
   ]
  },
  {
   "cell_type": "code",
   "execution_count": 4,
   "id": "8d6bdab7-14a7-4bff-a4a3-d9de78d7559e",
   "metadata": {},
   "outputs": [],
   "source": [
    "if not os.path.exists('embeddings'):\n",
    "    os.makedirs('embeddings')\n",
    "\n",
    "# Iterate through each row in the dataframe\n",
    "for index, row in headphone_electronics.iterrows():\n",
    "    review_text = row['reviewText']  # Assuming 'reviewText' is the column containing the review text\n",
    "    embeddings = get_bert_embeddings(review_text)\n",
    "    # Save embeddings to a numpy file\n",
    "    np.save(f'embeddings/embeddings_{index}.npy', embeddings)"
   ]
  },
  {
   "cell_type": "code",
   "execution_count": 5,
   "id": "faabc3eb-ef7c-448d-8ad8-fef3b0976b45",
   "metadata": {},
   "outputs": [],
   "source": [
    "# Create an empty list to store rows\n",
    "rows = []\n",
    "\n",
    "# Define the folder containing the embeddings\n",
    "embedding_folder = 'embeddings/'\n",
    "\n",
    "# Define the number of rows to iterate over\n",
    "num_rows = 101555\n",
    "\n",
    "# Iterate through each row in the dataframe up to the specified number of rows\n",
    "for index, row in headphone_electronics.head(num_rows).iterrows():\n",
    "    # Generate the path to the embedding file\n",
    "    embedding_path = os.path.join(embedding_folder, f'embeddings_{index}.npy')\n",
    "    \n",
    "    # Get the rating from the 'overall' column\n",
    "    rating = row['overall']\n",
    "    \n",
    "    # Append the embedding path and rating to the list of rows\n",
    "    rows.append({'Embedding Path': embedding_path, 'Rating': rating})\n",
    "\n",
    "# Create a DataFrame from the list of rows\n",
    "embedding_rating_df = pd.DataFrame(rows)\n"
   ]
  },
  {
   "cell_type": "code",
   "execution_count": 8,
   "id": "fe3b5512-c13f-42a9-81fe-6aff9c8e6512",
   "metadata": {},
   "outputs": [
    {
     "data": {
      "text/html": [
       "<div>\n",
       "<style scoped>\n",
       "    .dataframe tbody tr th:only-of-type {\n",
       "        vertical-align: middle;\n",
       "    }\n",
       "\n",
       "    .dataframe tbody tr th {\n",
       "        vertical-align: top;\n",
       "    }\n",
       "\n",
       "    .dataframe thead th {\n",
       "        text-align: right;\n",
       "    }\n",
       "</style>\n",
       "<table border=\"1\" class=\"dataframe\">\n",
       "  <thead>\n",
       "    <tr style=\"text-align: right;\">\n",
       "      <th></th>\n",
       "      <th>Embedding Path</th>\n",
       "      <th>Rating</th>\n",
       "      <th>Rating Class</th>\n",
       "    </tr>\n",
       "  </thead>\n",
       "  <tbody>\n",
       "    <tr>\n",
       "      <th>0</th>\n",
       "      <td>embeddings/embeddings_0.npy</td>\n",
       "      <td>5.0</td>\n",
       "      <td>Good</td>\n",
       "    </tr>\n",
       "    <tr>\n",
       "      <th>1</th>\n",
       "      <td>embeddings/embeddings_1.npy</td>\n",
       "      <td>5.0</td>\n",
       "      <td>Good</td>\n",
       "    </tr>\n",
       "    <tr>\n",
       "      <th>2</th>\n",
       "      <td>embeddings/embeddings_2.npy</td>\n",
       "      <td>1.0</td>\n",
       "      <td>Bad</td>\n",
       "    </tr>\n",
       "    <tr>\n",
       "      <th>3</th>\n",
       "      <td>embeddings/embeddings_3.npy</td>\n",
       "      <td>3.0</td>\n",
       "      <td>Average</td>\n",
       "    </tr>\n",
       "    <tr>\n",
       "      <th>4</th>\n",
       "      <td>embeddings/embeddings_4.npy</td>\n",
       "      <td>1.0</td>\n",
       "      <td>Bad</td>\n",
       "    </tr>\n",
       "    <tr>\n",
       "      <th>...</th>\n",
       "      <td>...</td>\n",
       "      <td>...</td>\n",
       "      <td>...</td>\n",
       "    </tr>\n",
       "    <tr>\n",
       "      <th>101550</th>\n",
       "      <td>embeddings/embeddings_101550.npy</td>\n",
       "      <td>4.0</td>\n",
       "      <td>Good</td>\n",
       "    </tr>\n",
       "    <tr>\n",
       "      <th>101551</th>\n",
       "      <td>embeddings/embeddings_101551.npy</td>\n",
       "      <td>5.0</td>\n",
       "      <td>Good</td>\n",
       "    </tr>\n",
       "    <tr>\n",
       "      <th>101552</th>\n",
       "      <td>embeddings/embeddings_101552.npy</td>\n",
       "      <td>5.0</td>\n",
       "      <td>Good</td>\n",
       "    </tr>\n",
       "    <tr>\n",
       "      <th>101553</th>\n",
       "      <td>embeddings/embeddings_101553.npy</td>\n",
       "      <td>2.0</td>\n",
       "      <td>Bad</td>\n",
       "    </tr>\n",
       "    <tr>\n",
       "      <th>101554</th>\n",
       "      <td>embeddings/embeddings_101554.npy</td>\n",
       "      <td>4.0</td>\n",
       "      <td>Good</td>\n",
       "    </tr>\n",
       "  </tbody>\n",
       "</table>\n",
       "<p>101555 rows × 3 columns</p>\n",
       "</div>"
      ],
      "text/plain": [
       "                          Embedding Path  Rating Rating Class\n",
       "0            embeddings/embeddings_0.npy     5.0         Good\n",
       "1            embeddings/embeddings_1.npy     5.0         Good\n",
       "2            embeddings/embeddings_2.npy     1.0          Bad\n",
       "3            embeddings/embeddings_3.npy     3.0      Average\n",
       "4            embeddings/embeddings_4.npy     1.0          Bad\n",
       "...                                  ...     ...          ...\n",
       "101550  embeddings/embeddings_101550.npy     4.0         Good\n",
       "101551  embeddings/embeddings_101551.npy     5.0         Good\n",
       "101552  embeddings/embeddings_101552.npy     5.0         Good\n",
       "101553  embeddings/embeddings_101553.npy     2.0          Bad\n",
       "101554  embeddings/embeddings_101554.npy     4.0         Good\n",
       "\n",
       "[101555 rows x 3 columns]"
      ]
     },
     "execution_count": 8,
     "metadata": {},
     "output_type": "execute_result"
    }
   ],
   "source": [
    "embedding_rating_df"
   ]
  },
  {
   "cell_type": "code",
   "execution_count": 7,
   "id": "858f7f4b-8a04-4b8c-87d3-c1a78b1d48ed",
   "metadata": {},
   "outputs": [],
   "source": [
    "#Classify the above ratings\n",
    "# Create an empty list to store the classified ratings\n",
    "rating_class = []\n",
    "\n",
    "# Iterate through each row in the dataframe up to the specified number of rows\n",
    "for index, row in embedding_rating_df.iterrows():\n",
    "    # Get the rating from the 'overall' column\n",
    "    rating = row['Rating']\n",
    "    \n",
    "    # Classify the rating\n",
    "    if rating > 3:\n",
    "        rating_class.append('Good')\n",
    "    elif rating == 3:\n",
    "        rating_class.append('Average')\n",
    "    else:\n",
    "        rating_class.append('Bad')\n",
    "\n",
    "# Add the 'Rating Class' column to the DataFrame\n",
    "embedding_rating_df['Rating Class'] = rating_class\n"
   ]
  },
  {
   "cell_type": "code",
   "execution_count": 10,
   "id": "3c5e8cf9-d2df-4856-bd7e-deb136fcb292",
   "metadata": {},
   "outputs": [],
   "source": [
    "import pandas as pd\n",
    "from sklearn.model_selection import train_test_split\n",
    "\n",
    "# Create an empty list to store the embeddings\n",
    "embeddings = []\n",
    "\n",
    "# Define the folder containing the embeddings\n",
    "embedding_folder = 'embeddings/'\n",
    "\n",
    "# Iterate through each embedding path\n",
    "for embedding_path in embedding_rating_df['Embedding Path']:\n",
    "    # Load the embedding from the .npy file\n",
    "    embedding = np.load(embedding_path)\n",
    "    # Append the embedding to the list of embeddings\n",
    "    embeddings.append(embedding)\n",
    "\n",
    "# Convert the list of embeddings to a NumPy array\n",
    "X = np.array(embeddings)\n",
    "\n",
    "# Define the target variable\n",
    "y = embedding_rating_df['Rating Class']\n",
    "\n",
    "# Split the data into training and testing sets (75:25 ratio)\n",
    "X_train, X_test, y_train, y_test = train_test_split(X, y, test_size=0.25, random_state=42)\n",
    "\n",
    "# Optionally, you can print the shapes of the training and testing sets to verify\n",
    "#print(\"X_train shape:\", X_train.shape)\n",
    "#print(\"X_test shape:\", X_test.shape)\n",
    "#print(\"y_train shape:\", y_train.shape)\n",
    "#print(\"y_test shape:\", y_test.shape)\n"
   ]
  },
  {
   "cell_type": "code",
   "execution_count": 11,
   "id": "25866bc6-0891-4752-9637-1388066406f3",
   "metadata": {},
   "outputs": [
    {
     "name": "stdout",
     "output_type": "stream",
     "text": [
      "Model: Logistic Regression\n",
      "Class: Good\n",
      "  Precision: 0.8309923594271857\n",
      "  Recall: 0.38441558441558443\n",
      "  F1-score: 0.6256752462662853\n",
      "\n",
      "Class: Average\n",
      "  Precision: 0.9577620755114955\n",
      "  Recall: 0.05597579425113464\n",
      "  F1-score: 0.5207617032531077\n",
      "\n",
      "Class: Bad\n",
      "  Precision: 0.8898851081551162\n",
      "  Recall: 0.09772202046880159\n",
      "  F1-score: 0.568418013856813\n",
      "\n",
      "Results Saved\n",
      "Model: Decision Tree\n",
      "Class: Good\n",
      "  Precision: 0.8028267411865864\n",
      "  Recall: 0.15125173852573018\n",
      "  F1-score: 0.3142125480153649\n",
      "\n",
      "Class: Average\n",
      "  Precision: 0.7877557477325459\n",
      "  Recall: 0.1645234493192133\n",
      "  F1-score: 0.32451732345940226\n",
      "\n",
      "Class: Bad\n",
      "  Precision: 0.7952198445651018\n",
      "  Recall: 0.1576086956521739\n",
      "  F1-score: 0.3192818110850898\n",
      "\n",
      "Results Saved\n",
      "Model: Random Forest\n",
      "Class: Good\n",
      "  Precision: 0.7703503822723742\n",
      "  Recall: 0.6774193548387096\n",
      "  F1-score: 0.7638248847926268\n",
      "\n",
      "Class: Average\n",
      "  Precision: 0.9935667580679182\n",
      "  Recall: 0.01588502269288956\n",
      "  F1-score: 0.17535043639248876\n",
      "\n",
      "Class: Bad\n",
      "  Precision: 0.8678350183082697\n",
      "  Recall: 0.03104212860310421\n",
      "  F1-score: 0.2852226285222629\n",
      "\n",
      "Results Saved\n",
      "Model: KNN\n",
      "Class: Good\n",
      "  Precision: 0.8009916302765647\n",
      "  Recall: 0.18826619964973731\n",
      "  F1-score: 0.5196641626159965\n",
      "\n",
      "Class: Average\n",
      "  Precision: 0.9285488293608943\n",
      "  Recall: 0.08131618759455371\n",
      "  F1-score: 0.31102882835228773\n",
      "\n",
      "Class: Bad\n",
      "  Precision: 0.8600664257106574\n",
      "  Recall: 0.11357633386159537\n",
      "  F1-score: 0.38914626075446723\n",
      "\n",
      "Results Saved\n",
      "Model: XGBoost\n",
      "Class: Good\n",
      "  Precision: 0.30327868852459017\n",
      "  Recall: 0.6301174795300819\n",
      "  F1-score: 0.8201134419735302\n",
      "\n",
      "Class: Average\n",
      "  Precision: 0.041981845688350984\n",
      "  Recall: 0.46813012430573925\n",
      "  F1-score: 0.960662307530057\n",
      "\n",
      "Class: Bad\n",
      "  Precision: 0.07375415282392027\n",
      "  Recall: 0.5371775417298938\n",
      "  F1-score: 0.884841420175822\n",
      "\n",
      "Results Saved\n"
     ]
    }
   ],
   "source": [
    "import pickle\n",
    "import numpy as np\n",
    "from sklearn.metrics import precision_recall_fscore_support\n",
    "from sklearn.linear_model import LogisticRegression\n",
    "from sklearn.tree import DecisionTreeClassifier\n",
    "from sklearn.ensemble import RandomForestClassifier\n",
    "from sklearn.naive_bayes import MultinomialNB\n",
    "from xgboost import XGBClassifier\n",
    "from sklearn.neighbors import KNeighborsClassifier\n",
    "from sklearn.preprocessing import LabelEncoder\n",
    "from sklearn.ensemble import GradientBoostingClassifier\n",
    "\n",
    "# Define the models\n",
    "models = {\n",
    "    'Logistic Regression': LogisticRegression(max_iter=1000),\n",
    "    'Decision Tree': DecisionTreeClassifier(),\n",
    "    'Random Forest': RandomForestClassifier(),\n",
    "    'KNN': KNeighborsClassifier(),\n",
    "    'XGBoost': XGBClassifier(),\n",
    "}\n",
    "\n",
    "# Train, evaluate each model, and save results\n",
    "for model_name, model in models.items():\n",
    "    if model_name == 'XGBoost':\n",
    "        # Encode labels for XGBoost\n",
    "        label_encoder = LabelEncoder()\n",
    "        y_train_encoded = label_encoder.fit_transform(y_train)\n",
    "        y_test_encoded = label_encoder.transform(y_test)\n",
    "        # Train the XGBoost model\n",
    "        model.fit(X_train, y_train_encoded)\n",
    "    else:\n",
    "        # Train other models without label encoding\n",
    "        model.fit(X_train, y_train)\n",
    "    \n",
    "    # Make predictions\n",
    "    y_pred = model.predict(X_test)\n",
    "    \n",
    "    # Calculate precision, recall, F1-score, and support\n",
    "    if model_name == 'XGBoost':\n",
    "        precision, recall, f1, support = precision_recall_fscore_support(y_test_encoded, y_pred, labels=[0, 1, 2])\n",
    "        classes = label_encoder.classes_\n",
    "    else:\n",
    "        precision, recall, f1, support = precision_recall_fscore_support(y_test, y_pred, labels=['Good', 'Average', 'Bad'])\n",
    "        classes = ['Good', 'Average', 'Bad']\n",
    "        \n",
    "    # Store the results\n",
    "    results = {\n",
    "        'Model': model_name,\n",
    "        'Precision': precision,\n",
    "        'Recall': recall,\n",
    "        'F1-score': f1,\n",
    "        'Support': support\n",
    "    }\n",
    "\n",
    "    # Print the results\n",
    "    print(f\"Model: {model_name}\")\n",
    "    for cls, metric_values in zip(['Good', 'Average', 'Bad'], [precision, recall, f1, support]):\n",
    "        print(f\"Class: {cls}\")\n",
    "        print(f\"  Precision: {metric_values[0]}\")\n",
    "        print(f\"  Recall: {metric_values[1]}\")\n",
    "        print(f\"  F1-score: {metric_values[2]}\")\n",
    "        if len(metric_values) > 3:\n",
    "            print(f\"  Support: {metric_values[3]}\")\n",
    "        print()\n",
    "\n",
    "    # Save results to a pickle file\n",
    "    with open(f'{model_name.lower().replace(\" \", \"_\")}_results.pkl', 'wb') as f:\n",
    "        pickle.dump(results, f)\n",
    "        print(\"Results Saved\")\n"
   ]
  },
  {
   "cell_type": "code",
   "execution_count": null,
   "id": "904ffd96-93cd-4da5-8ec8-ffbc2e172194",
   "metadata": {},
   "outputs": [],
   "source": [
    "results.to_pickle('results.pkl')"
   ]
  },
  {
   "cell_type": "code",
   "execution_count": 3,
   "id": "7c33da8e-e44b-407d-a316-7df7980dd1ba",
   "metadata": {},
   "outputs": [
    {
     "data": {
      "text/plain": [
       "{'Model': 'Decision Tree',\n",
       " 'Precision': array([0.80255017, 0.14823944, 0.31347804]),\n",
       " 'Recall': array([0.78659565, 0.15922844, 0.32848453]),\n",
       " 'F1-score': array([0.79449282, 0.15353756, 0.32080589]),\n",
       " 'Support': array([18964,  2644,  3781])}"
      ]
     },
     "execution_count": 3,
     "metadata": {},
     "output_type": "execute_result"
    }
   ],
   "source": [
    "results_decision = pd.read_pickle('decision_tree_results.pkl')\n",
    "results_decision"
   ]
  },
  {
   "cell_type": "code",
   "execution_count": 4,
   "id": "2071eb6e-d264-4996-985f-5799333df437",
   "metadata": {},
   "outputs": [
    {
     "data": {
      "text/plain": [
       "{'Model': 'Logistic Regression',\n",
       " 'Precision': array([0.83099236, 0.38441558, 0.62567525]),\n",
       " 'Recall': array([0.95776208, 0.05597579, 0.5207617 ]),\n",
       " 'F1-score': array([0.88988511, 0.09772202, 0.56841801]),\n",
       " 'Support': array([18964,  2644,  3781])}"
      ]
     },
     "execution_count": 4,
     "metadata": {},
     "output_type": "execute_result"
    }
   ],
   "source": [
    "results_logistic = pd.read_pickle('logistic_regression_results.pkl')\n",
    "results_logistic"
   ]
  },
  {
   "cell_type": "code",
   "execution_count": 5,
   "id": "ffc13541-fdcd-4742-834c-4a782f08a74d",
   "metadata": {},
   "outputs": [
    {
     "data": {
      "text/plain": [
       "{'Model': 'KNN',\n",
       " 'Precision': array([0.80099163, 0.1882662 , 0.51966416]),\n",
       " 'Recall': array([0.92854883, 0.08131619, 0.31102883]),\n",
       " 'F1-score': array([0.86006643, 0.11357633, 0.38914626]),\n",
       " 'Support': array([18964,  2644,  3781])}"
      ]
     },
     "execution_count": 5,
     "metadata": {},
     "output_type": "execute_result"
    }
   ],
   "source": [
    "results_knn = pd.read_pickle('knn_results.pkl')\n",
    "results_knn"
   ]
  },
  {
   "cell_type": "code",
   "execution_count": 6,
   "id": "a657a380-e6ef-431f-b9fa-62d8df3488c5",
   "metadata": {},
   "outputs": [
    {
     "data": {
      "text/plain": [
       "{'Model': 'Random Forest',\n",
       " 'Precision': array([0.77000736, 0.68253968, 0.75465116]),\n",
       " 'Recall': array([0.99340856, 0.01626324, 0.17164771]),\n",
       " 'F1-score': array([0.86755699, 0.03176949, 0.2796811 ]),\n",
       " 'Support': array([18964,  2644,  3781])}"
      ]
     },
     "execution_count": 6,
     "metadata": {},
     "output_type": "execute_result"
    }
   ],
   "source": [
    "results_random = pd.read_pickle('random_forest_results.pkl')\n",
    "results_random"
   ]
  },
  {
   "cell_type": "code",
   "execution_count": 7,
   "id": "af6a09c1-1028-47f3-a256-0f35df1359bd",
   "metadata": {},
   "outputs": [
    {
     "data": {
      "text/plain": [
       "{'Model': 'XGBoost',\n",
       " 'Precision': array([0.30327869, 0.63011748, 0.82011344]),\n",
       " 'Recall': array([0.04198185, 0.46813012, 0.96066231]),\n",
       " 'F1-score': array([0.07375415, 0.53717754, 0.88484142]),\n",
       " 'Support': array([ 2644,  3781, 18964])}"
      ]
     },
     "execution_count": 7,
     "metadata": {},
     "output_type": "execute_result"
    }
   ],
   "source": [
    "results_xgboost = pd.read_pickle('xgboost_results.pkl')\n",
    "results_xgboost"
   ]
  },
  {
   "cell_type": "code",
   "execution_count": null,
   "id": "a95c00d0-11ad-411a-9223-63d274ced509",
   "metadata": {},
   "outputs": [],
   "source": []
  }
 ],
 "metadata": {
  "kernelspec": {
   "display_name": "Python 3 (ipykernel)",
   "language": "python",
   "name": "python3"
  },
  "language_info": {
   "codemirror_mode": {
    "name": "ipython",
    "version": 3
   },
   "file_extension": ".py",
   "mimetype": "text/x-python",
   "name": "python",
   "nbconvert_exporter": "python",
   "pygments_lexer": "ipython3",
   "version": "3.10.12"
  }
 },
 "nbformat": 4,
 "nbformat_minor": 5
}
